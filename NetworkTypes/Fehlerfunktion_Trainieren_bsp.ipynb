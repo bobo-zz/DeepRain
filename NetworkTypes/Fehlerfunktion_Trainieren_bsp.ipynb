{
 "cells": [
  {
   "cell_type": "code",
   "execution_count": 1,
   "metadata": {},
   "outputs": [
    {
     "name": "stderr",
     "output_type": "stream",
     "text": [
      "Using TensorFlow backend.\n"
     ]
    }
   ],
   "source": [
    "import tfLosses"
   ]
  },
  {
   "cell_type": "code",
   "execution_count": 4,
   "metadata": {},
   "outputs": [
    {
     "name": "stdout",
     "output_type": "stream",
     "text": [
      "0) (?, 32, 32, 10) 10 x 32x32\n",
      "1) (?, 16, 16, 20) 20 x 16x16\n",
      "2) (?, 8, 8, 20) 20 x 8x8\n",
      "3) (?, 4, 4, 20) 20 x 4x4\n",
      "4) (?, 8, 8, 40) 40 x 8x8\n",
      "5) (?, 16, 16, 60) 60 x 16x16\n",
      "6) (?, 32, 32, 80) 80 x 32x32\n",
      "7) (?, 64, 64, 90) 90 x 64x64\n",
      "8) (?, 64, 64, 1) 1 x 64x64\n",
      "WARNING:tensorflow:From /usr/local/lib/python3.5/dist-packages/tensorflow/python/keras/_impl/keras/backend.py:1557: calling reduce_mean (from tensorflow.python.ops.math_ops) with keep_dims is deprecated and will be removed in a future version.\n",
      "Instructions for updating:\n",
      "keep_dims is deprecated, use keepdims instead\n"
     ]
    }
   ],
   "source": [
    "import tfModels as tfM\n",
    "input_shape = (64, 64, 5)\n",
    "model = tfM.UNet64(input_shape, lossfunction=tfLosses.mean_squared_error_kopie) #erster Test a"
   ]
  },
  {
   "cell_type": "code",
   "execution_count": 13,
   "metadata": {},
   "outputs": [],
   "source": [
    "import sys\n",
    "sys.path.insert(0, '../Data/')\n",
    "import sample_bundle\n",
    "sb = sample_bundle.load_Sample_Bundle(\"../Data/RegenTage2016\")\n",
    "data, label = sb.get_all_data_label(channels_Last=True, flatten_output=True)\n",
    "n_testsamples = 50\n",
    "x_train, y_train = data[n_testsamples:], label[n_testsamples:]\n",
    "x_test, y_test = data[:n_testsamples], label[:n_testsamples]"
   ]
  },
  {
   "cell_type": "code",
   "execution_count": 15,
   "metadata": {},
   "outputs": [
    {
     "name": "stderr",
     "output_type": "stream",
     "text": [
      "Using TensorFlow backend.\n"
     ]
    },
    {
     "ename": "ImportError",
     "evalue": "No module named 'tensorflow.keras'",
     "output_type": "error",
     "traceback": [
      "\u001b[0;31m\u001b[0m",
      "\u001b[0;31mImportError\u001b[0mTraceback (most recent call last)",
      "\u001b[0;32m<ipython-input-15-8ce07ce19120>\u001b[0m in \u001b[0;36m<module>\u001b[0;34m\u001b[0m\n\u001b[0;32m----> 1\u001b[0;31m \u001b[0;32mfrom\u001b[0m \u001b[0mextendet_CNN_test\u001b[0m \u001b[0;32mimport\u001b[0m \u001b[0mtrain_realdata\u001b[0m\u001b[0;34m\u001b[0m\u001b[0m\n\u001b[0m\u001b[1;32m      2\u001b[0m train_realdata(model, sb, n_epoch=80, savename=\"{FEHLERFUNKTIONSNAME}\", channelsLast=True, use_logfile=True,\n\u001b[1;32m      3\u001b[0m load_last_state=True)\n",
      "\u001b[0;32m/notebooks/local/NetworkTypes/extendet_CNN_test.py\u001b[0m in \u001b[0;36m<module>\u001b[0;34m\u001b[0m\n\u001b[1;32m      4\u001b[0m \u001b[0;32mimport\u001b[0m \u001b[0mnumpy\u001b[0m \u001b[0;32mas\u001b[0m \u001b[0mnp\u001b[0m\u001b[0;34m\u001b[0m\u001b[0m\n\u001b[1;32m      5\u001b[0m \u001b[0;32mimport\u001b[0m \u001b[0mos\u001b[0m\u001b[0;34m\u001b[0m\u001b[0m\n\u001b[0;32m----> 6\u001b[0;31m \u001b[0;32mfrom\u001b[0m \u001b[0mtensorflow\u001b[0m\u001b[0;34m.\u001b[0m\u001b[0mkeras\u001b[0m\u001b[0;34m.\u001b[0m\u001b[0mmodels\u001b[0m \u001b[0;32mimport\u001b[0m \u001b[0mload_model\u001b[0m\u001b[0;34m\u001b[0m\u001b[0m\n\u001b[0m\u001b[1;32m      7\u001b[0m \u001b[0;32mimport\u001b[0m \u001b[0mmatplotlib\u001b[0m\u001b[0;34m.\u001b[0m\u001b[0mpyplot\u001b[0m \u001b[0;32mas\u001b[0m \u001b[0mplt\u001b[0m\u001b[0;34m\u001b[0m\u001b[0m\n\u001b[1;32m      8\u001b[0m \u001b[0;32mimport\u001b[0m \u001b[0mkeras\u001b[0m\u001b[0;34m\u001b[0m\u001b[0m\n",
      "\u001b[0;31mImportError\u001b[0m: No module named 'tensorflow.keras'"
     ]
    }
   ],
   "source": [
    "from extendet_CNN_test import train_realdata\n",
    "train_realdata(model, sb, n_epoch=80, savename=\"{FEHLERFUNKTIONSNAME}\", channelsLast=True, use_logfile=True,\n",
    "load_last_state=True)"
   ]
  },
  {
   "cell_type": "code",
   "execution_count": 17,
   "metadata": {},
   "outputs": [],
   "source": [
    "import tfModels as tfM\n",
    "import tfLosses as tfL\n",
    "import simple_CNN_test as sCNN\n",
    "import numpy as np\n",
    "import os\n",
    "#from tensorflow.keras.models import load_model\n",
    "import matplotlib.pyplot as plt\n",
    "import keras"
   ]
  },
  {
   "cell_type": "code",
   "execution_count": null,
   "metadata": {},
   "outputs": [],
   "source": []
  }
 ],
 "metadata": {
  "kernelspec": {
   "display_name": "Python 3",
   "language": "python",
   "name": "python3"
  },
  "language_info": {
   "codemirror_mode": {
    "name": "ipython",
    "version": 3
   },
   "file_extension": ".py",
   "mimetype": "text/x-python",
   "name": "python",
   "nbconvert_exporter": "python",
   "pygments_lexer": "ipython3",
   "version": "3.5.2"
  }
 },
 "nbformat": 4,
 "nbformat_minor": 2
}
