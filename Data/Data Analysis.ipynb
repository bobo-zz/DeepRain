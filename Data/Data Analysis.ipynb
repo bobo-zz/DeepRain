{
 "cells": [
  {
   "cell_type": "code",
   "execution_count": 38,
   "metadata": {
    "collapsed": true,
    "scrolled": true
   },
   "outputs": [],
   "source": [
    "import wradlib as wrl\n",
    "import os\n",
    "import glob\n",
    "import numpy as np\n",
    "import cv2\n",
    "import matplotlib.pyplot as plt\n",
    "\n",
    "bin_file_name_prefix = \"raa01-yw2017.002_10000-\"\n",
    "img_file_name_prefix = \"scaled_\"\n",
    "\n",
    "# Subdirectories with years\n",
    "image_dir=\"/data/Radarbilder_DWD/minutely/\"\n",
    "data_dir=\"/data_hdd/Radardaten/minutely/uncompressed/\"\n",
    "\n",
    "year=2016\n",
    "month=8\n",
    "day_begin=12\n",
    "day_end=19"
   ]
  },
  {
   "cell_type": "code",
   "execution_count": 39,
   "metadata": {
    "collapsed": true
   },
   "outputs": [],
   "source": [
    "def get_filename_prefix(year, month, day):\n",
    "    date_string_w_full_year = \"{:4d}{:02d}{:02d}\".format(year, month, day)\n",
    "    return date_string_w_full_year[2:]"
   ]
  },
  {
   "cell_type": "code",
   "execution_count": 40,
   "metadata": {
    "collapsed": true
   },
   "outputs": [],
   "source": [
    "def read_data_from_radolan(radfile):\n",
    "    radfile = wrl.util.get_wradlib_data_file(radfile)\n",
    "    data, attrs = wrl.io.read_radolan_composite(radfile)\n",
    "    data = np.ma.masked_equal(data, -9999)\n",
    "    return data"
   ]
  },
  {
   "cell_type": "code",
   "execution_count": 41,
   "metadata": {
    "collapsed": true
   },
   "outputs": [],
   "source": [
    "def read_image_gray(image_file):\n",
    "    image = cv2.imread(image_file)\n",
    "    image = cv2.cvtColor(image, cv2.COLOR_BGR2GRAY)\n",
    "    return image"
   ]
  },
  {
   "cell_type": "code",
   "execution_count": 42,
   "metadata": {
    "collapsed": true
   },
   "outputs": [],
   "source": [
    "def get_all_binary_data_in_range(year, month, day_begin, day_end):\n",
    "    os.environ[\"WRADLIB_DATA\"] = data_dir + str(year) + \"/\"\n",
    "    os.chdir(data_dir + str(year) + \"/\")\n",
    "    bin_data = np.array([])\n",
    "    for day in range(day_begin, day_end):\n",
    "        filename_prefix = bin_file_name_prefix + get_filename_prefix(year, month, day)\n",
    "        for file in glob.glob(filename_prefix + \"*\"):\n",
    "            try:\n",
    "                if len(bin_data)==0:\n",
    "                    bin_data=read_data_from_radolan(file)\n",
    "                else:\n",
    "                    data = read_data_from_radolan(file)\n",
    "                    np.concatenate((bin_data, data))\n",
    "            except OSError as e:\n",
    "                print(\"Could not read file: \" + str(e))\n",
    "    return bin_data\n",
    "\n",
    "def get_all_image_data_in_range(year, month, day_begin, day_end):\n",
    "    os.chdir(image_dir + str(year) + \"/\")\n",
    "    img_data = np.array([])\n",
    "    for day in range(day_begin, day_end):\n",
    "        filename_prefix = img_file_name_prefix + get_filename_prefix(year, month, day)\n",
    "        for file in glob.glob(filename_prefix + \"*\"):\n",
    "            # Read image, append to data\n",
    "            if len(img_data) == 0:\n",
    "                img_data = read_image_gray(file)\n",
    "            else:\n",
    "                image = read_image_gray(file)\n",
    "                np.concatenate((img_data, image))\n",
    "    return img_data"
   ]
  },
  {
   "cell_type": "code",
   "execution_count": 43,
   "metadata": {},
   "outputs": [
    {
     "name": "stdout",
     "output_type": "stream",
     "text": [
      "<class 'numpy.ma.core.MaskedArray'>\n",
      "1100\n",
      "0.0 / 0.13\n",
      "<class 'numpy.ndarray'>\n",
      "1100\n",
      "0 / 100\n"
     ]
    }
   ],
   "source": [
    "bin_data = get_all_binary_data_in_range(year, month, day_begin, day_end)\n",
    "print(type(bin_data))\n",
    "print(len(bin_data))\n",
    "print(\"{} / {}\".format(bin_data.min(), bin_data.max()))\n",
    "\n",
    "img_data = get_all_image_data_in_range(year, month, day_begin, day_end)\n",
    "print(type(img_data))\n",
    "print(len(img_data))\n",
    "print(\"{} / {}\".format(img_data.min(), img_data.max()))"
   ]
  },
  {
   "cell_type": "code",
   "execution_count": 44,
   "metadata": {},
   "outputs": [
    {
     "data": {
      "image/png": "[encoded data removed]",
      "text/plain": [
       "<Figure size 432x288 with 1 Axes>"
      ]
     },
     "metadata": {
      "needs_background": "light"
     },
     "output_type": "display_data"
    }
   ],
   "source": [
    "#hist, bin_edges = np.histogram(bin_data, density=True)\n",
    "plt.hist(bin_data, bins='auto', histtype='bar')  # arguments are passed to np.histogram\n",
    "plt.title(\"Binary data (auto bins)\")\n",
    "plt.show()"
   ]
  },
  {
   "cell_type": "code",
   "execution_count": 45,
   "metadata": {
    "scrolled": true
   },
   "outputs": [
    {
     "data": {
      "image/png": "[encoded data removed]",
      "text/plain": [
       "<Figure size 432x288 with 1 Axes>"
      ]
     },
     "metadata": {
      "needs_background": "light"
     },
     "output_type": "display_data"
    }
   ],
   "source": [
    "plt.hist(img_data, bins='auto')  # arguments are passed to np.histogram\n",
    "plt.title(\"Image data (auto bins)\")\n",
    "plt.show()"
   ]
  },
  {
   "cell_type": "markdown",
   "metadata": {},
   "source": [
    "### Edits:\n",
    "* eindimensionales Histogramm ist oft einfacher zu interpretieren:\n",
    "    -> unterschiede werden sichtbar, aber auch die Masked eigenschaft ist eher negativ zum Auswerten des Arrays, daher clipping\n",
    "* Forschleife die gesammtes Bild durchsucht macht unterschiedliche Wertebereiche nochmal sichtbar.\n",
    "* Schlussendlich gilt noch zu klären, ob überhaupt das selbe Bild verglichen wird, imshow sieht durchaus sehr unterschiedlich aus\n",
    "    "
   ]
  },
  {
   "cell_type": "code",
   "execution_count": 36,
   "metadata": {},
   "outputs": [
    {
     "data": {
      "image/png": "[encoded data removed]",
      "text/plain": [
       "<Figure size 432x288 with 1 Axes>"
      ]
     },
     "metadata": {
      "needs_background": "light"
     },
     "output_type": "display_data"
    },
    {
     "data": {
      "image/png": "[encoded data removed]",
      "text/plain": [
       "<Figure size 432x288 with 1 Axes>"
      ]
     },
     "metadata": {
      "needs_background": "light"
     },
     "output_type": "display_data"
    },
    {
     "name": "stdout",
     "output_type": "stream",
     "text": [
      "\n",
      "\n",
      "\n",
      "\n"
     ]
    },
    {
     "data": {
      "image/png": "[encoded data removed]",
      "text/plain": [
       "<Figure size 432x288 with 1 Axes>"
      ]
     },
     "metadata": {
      "needs_background": "light"
     },
     "output_type": "display_data"
    },
    {
     "data": {
      "image/png": "[encoded data removed]",
      "text/plain": [
       "<Figure size 432x288 with 1 Axes>"
      ]
     },
     "metadata": {
      "needs_background": "light"
     },
     "output_type": "display_data"
    },
    {
     "name": "stdout",
     "output_type": "stream",
     "text": [
      "[80 80 80 80 80 80 80 80 80 80 80 80 80 80 80 80 80 80 80 80 80 80 80 80\n",
      " 80 80 80 80 80 80 80 80 80 80 80 80 80 80 80 80 80 80 80 80 80 80 80 80\n",
      " 80 80 80 80 80 80 80 80 80  0  0  0  0  0  0  0  0  0  0  0  0  0  0  0\n",
      "  0  0  0  0  0  0  0  0  0  0  0  0  0  0  0  0  0  0  0  0  0  0  0  0\n",
      "  0  0  0  0  0  0  0  0  0  0  0  0  0  0  0  0  0  0  0  0  0  0  0  0\n",
      "  0  0  0  0  0  0  0  0  0  0  0  0  0  0  0  0  0  0  0  0  0  0  0  0\n",
      "  0  0  0  0  0  0  0  0  0  0  0  0  0  0  0  0  0  0  0  0  0  0  0  0\n",
      "  0  0  0  0  0  0  0  0  0  0  0  0  0  0  0  0  0  0  0  0  0  0  0  0\n",
      "  0  0  0  0  0  0  0  0  0  0  0  0  0  0  0  0  0  0  0  0  0  0  0  0\n",
      "  0  0  0  0  0  0  0  0  0  0  0  0  0  0  0  0  0  0  0  0  0  0  0  0\n",
      "  0  0  0  0  0  0  0  0  0  0  0  0  0  0  0  0  0  0  0  0  0  0  0  0\n",
      "  0  0  0  0  0  0  0  0  0  0  0  0  0  0  0  0  0  0  0  0  0  0  0  0\n",
      "  0  0  0  0  0  0  0  0  0  0  0  0  0  0  0  0  0  0  0  0  0  0  0  0\n",
      "  0  0  0  0  0  0  0  0  0  0  0  0  0  0  0  0  0  0  0  0  0  0  0  0\n",
      "  0  0  0  0  0  0  0  0  0  0  0  0  0  0  0  0  0  0  0  0  0  0  0  0\n",
      "  0  0  0  0  0  0  0  0  0  0  0  0  0  0  0  0  0  0  0  0  0  0  0  0\n",
      "  0  0  0  0  0  0  0  0  0  0  0  0  0  0  0  0  0  0  0  0  0  0  0  0\n",
      "  0  0  0  0  0  0  0  0  0  0  0  0  0  0  0  0  0  0  0  0  0  0  0  0\n",
      "  0  0  0  0  0  0  0  0  0  0  0  0  0  0  0  0  0  0  0  0  0  0  0  0\n",
      "  0  0  0  0  0  0  0  0  0  0  0  0  0  0  0  0  0  0  0  0  0  0  0  0\n",
      "  0  0  0  0  0  0  0  0  0  0  0  0  0  0  0  0  0  0  0  0  0  0  0  0\n",
      "  0  0  0  0  0  0  0  0  0  0  0  0  0  0  0  0  0  0  0  0  0  0  0  0\n",
      "  0  0  0  0  0  0  0  0  0  0  0  0  0  0  0  0  0  0  0  0  0  0  0  0\n",
      "  0  0  0  0  0  0  0  0  0  0  0  0  0  0  0  0  0  0  0  0  0  0  0  0\n",
      "  0  0  0  0  0  0  0  0  0  0  0  0  0  0  0  0  0  0  0  0  0  0  0  0\n",
      "  0  0  0  0  0  0  0  0  0  0  0  0  0  0  0  0  0  0  0  0  0  0  0  0\n",
      "  0  0  0  0  0  0  0  0  0  0  0  0  0  0  0  0  0  0  0  0  0  0  0  0\n",
      "  0  0  0  0  0  0  0  0  0  0  0  0  0  0  0  0  0  0  0  0  0  0  0  0\n",
      "  0  0  0  0  0  0  0  0  0  0  0  0  0  0  0  0  0  0  0  0  0  0  0  0\n",
      "  0  0  0  0  0  0  0  0  0  0  0  0  0  0  0  0  0  0  0  0  0  0  0  0\n",
      "  0  0  0  0  0  0  0  0  0  0  0  0  0  0  0  0  0  0  0  0  0  0  0  0\n",
      "  0  0  0  0  0  0  0  0  0  0  0  0  0  0  0  0  0  0  0  0  0  0  0  0\n",
      "  0  0  0  0  0  0  0  0  0  0  0  0  0  0  0  0  0  0  0  0  0  0  0  0\n",
      "  0  0  0  0  0  0  0  0  0  0  0  0  0  0  0  0  0  0  0  0  0  0  0  0\n",
      "  0  0  0  0  0  0  0  0  0  0  0  0  0  0  0  0  0 80 80 80 80 80 80 80\n",
      " 80 80 80 80 80 80 80 80 80 80 80 80 80 80 80 80 80 80 80 80 80 80 80 80\n",
      " 80 80 80 80 80 80 80 80 80 80 80 80 80 80 80 80 80 80 80 80 80 80 80 80\n",
      " 80 80 80 80 80 80 80 80 80 80 80 80]\n"
     ]
    }
   ],
   "source": [
    "plt.hist(img_data[500], bins=20, log=True)  # arguments are passed to np.histogram\n",
    "plt.title(\"Image data (Zeile 500)\")\n",
    "plt.show()\n",
    "plt.hist(bin_data[500], bins=20, log=True)  # arguments are passed to np.histogram\n",
    "plt.title(\"Binary data (Zeile 500)\")\n",
    "plt.show()\n",
    "###\n",
    "print(\"\\n\\n\\n\")\n",
    "plt.hist(img_data.flatten(), bins=20, log=True)  # arguments are passed to np.histogram\n",
    "plt.title(\"Image data flattened (auto bins)\")\n",
    "plt.show()\n",
    "clipped_bin = bin_data.flatten()\n",
    "clipped_bin[clipped_bin<-1000] = 0\n",
    "plt.hist(clipped_bin, bins=20, log=True)  # arguments are passed to np.histogram\n",
    "plt.title(\"Binary data flattened (auto bins)\")\n",
    "plt.show()\n",
    "print(img_data[500])"
   ]
  },
  {
   "cell_type": "code",
   "execution_count": 14,
   "metadata": {},
   "outputs": [
    {
     "name": "stdout",
     "output_type": "stream",
     "text": [
      "{80: 380736, 0: 606112, 20: 2007, 40: 816, 60: 276, 100: 27, 120: 12, 140: 7, 180: 5, 220: 1, 200: 1}\n",
      "[masked, 0.0, 0.01, 0.03, 0.09, 0.05, 0.14, 0.02, 0.07, 0.18, 0.15, 0.1, 0.37, 0.23, 0.12, 0.28, 0.3, 0.21, 0.34, 0.2, 0.27, 0.17, 0.31, 0.4, 0.7000000000000001, 0.47000000000000003, 0.11, 0.25, 0.43, 0.56, 0.51, 0.58, 0.33, 0.62, 0.46, 0.36, 0.55, 0.5, 0.38, 0.44, 0.49, 0.41000000000000003, 0.54, 0.16, 0.13, 0.08, 0.06, 0.04, 0.9500000000000001, 0.35000000000000003, 0.8300000000000001, 0.66, 0.76, 0.5700000000000001, 0.22, 0.26, 0.52, 0.93, 0.48, 0.8, 0.88, 0.45, 0.42, 0.32, 0.24, 0.78, 0.53, 0.19, 0.65, 0.87, 0.29, 0.63, 0.64, 0.81, 0.71, 0.68, 1.35, 0.8200000000000001, 0.92, 0.89, 0.77, 0.59, 1.51, 1.76, 1.42, 0.72, 1.55, 1.36, 0.61, 0.79, 0.39, 0.73, 1.07, 2.58, 1.03, 1.1, 1.0, 1.77, 1.85, 3.15, 2.7, 2.91, 2.48, 2.2600000000000002, 1.95, 1.53, 3.48, 4.66, 2.52, 1.46, 0.67, 1.7, 1.67, 2.71, 2.32, 1.72, 1.59, 1.08, 0.6900000000000001, 2.35, 3.24, 3.39, 2.13, 2.65, 1.8800000000000001, 1.73, 1.17, 2.17, 1.3800000000000001, 2.56, 2.54, 0.86, 0.75, 1.05, 2.05, 1.58, 0.6, 1.44, 0.74, 0.85, 1.32, 0.84, 1.27, 1.2, 1.04, 1.19, 1.16, 1.22, 1.01, 1.1500000000000001, 1.18, 1.26, 0.9, 1.34, 0.9400000000000001, 0.99, 1.1400000000000001, 1.02, 1.23, 0.97, 0.91, 0.98, 1.1300000000000001, 1.28, 1.4000000000000001, 1.3900000000000001, 1.48, 1.41, 1.5, 1.49, 1.69, 1.57, 1.29, 1.74, 2.5, 2.45, 2.0, 1.45, 1.9000000000000001, 1.11, 1.12, 0.96, 1.52, 1.68, 1.99, 2.22, 1.37, 1.8, 1.47, 2.0100000000000002, 1.71, 1.62, 1.09, 2.43, 1.86, 1.31, 1.25, 2.14, 1.6500000000000001, 2.27, 1.21, 1.06, 2.07, 2.33, 1.87, 2.68, 1.6300000000000001, 1.3, 1.54, 1.75, 1.33, 2.09, 2.25, 1.61, 2.02, 2.5300000000000002, 1.43, 3.43, 3.1, 2.08, 2.0300000000000002, 2.63, 2.64, 1.97]\n",
      "224\n"
     ]
    }
   ],
   "source": [
    "img_a = {}\n",
    "for i in range(1100):\n",
    "    for j in range(900):\n",
    "        if img_data[i][j] in img_a:\n",
    "            img_a[img_data[i][j]] += 1\n",
    "            continue\n",
    "        img_a[img_data[i][j]] = 1\n",
    "print(img_a)\n",
    "\n",
    "bin_a = []\n",
    "for i in range(1100):\n",
    "    for j in range(900):\n",
    "        if bin_data[i][j] in bin_a:\n",
    "            continue\n",
    "        \n",
    "        bin_a.append(bin_data[i][j])\n",
    "print(bin_a)\n",
    "print(len(bin_a))\n"
   ]
  },
  {
   "cell_type": "code",
   "execution_count": 32,
   "metadata": {},
   "outputs": [
    {
     "data": {
      "image/png": "[encoded data removed]",
      "text/plain": [
       "<Figure size 432x288 with 1 Axes>"
      ]
     },
     "metadata": {
      "needs_background": "light"
     },
     "output_type": "display_data"
    },
    {
     "data": {
      "image/png": "[encoded data removed]",
      "text/plain": [
       "<Figure size 432x288 with 1 Axes>"
      ]
     },
     "metadata": {
      "needs_background": "light"
     },
     "output_type": "display_data"
    }
   ],
   "source": [
    "import matplotlib.pyplot as plt\n",
    "plt.imshow(img_data, cmap=\"gray\", vmax=80)\n",
    "plt.show()\n",
    "plt.imshow(bin_data, cmap=\"gray\", vmax=1)\n",
    "plt.show()\n",
    "\n"
   ]
  },
  {
   "cell_type": "code",
   "execution_count": null,
   "metadata": {
    "collapsed": true
   },
   "outputs": [],
   "source": []
  }
 ],
 "metadata": {
  "kernelspec": {
   "display_name": "Python [conda env:testingENV]",
   "language": "python",
   "name": "conda-env-testingENV-py"
  },
  "language_info": {
   "codemirror_mode": {
    "name": "ipython",
    "version": 3
   },
   "file_extension": ".py",
   "mimetype": "text/x-python",
   "name": "python",
   "nbconvert_exporter": "python",
   "pygments_lexer": "ipython3",
   "version": "3.6.7"
  }
 },
 "nbformat": 4,
 "nbformat_minor": 2
}
