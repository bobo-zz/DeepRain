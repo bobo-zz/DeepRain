{
 "cells": [
  {
   "cell_type": "code",
   "execution_count": 1,
   "metadata": {
    "collapsed": true,
    "scrolled": true
   },
   "outputs": [],
   "source": [
    "import wradlib as wrl\n",
    "import os\n",
    "import glob\n",
    "import numpy as np\n",
    "import matplotlib.pyplot as plt\n",
    "\n",
    "bin_file_name_prefix = \"raa01-yw2017.002_10000-\"\n",
    "\n",
    "# Subdirectories with years\n",
    "image_dir=\"/data/Radarbilder_DWD/minutely/\"\n",
    "data_dir=\"/data_hdd/Radardaten/minutely/uncompressed/\"\n",
    "\n",
    "year=2016\n",
    "month=4\n",
    "day=None\n",
    "\n",
    "if (not day == None):\n",
    "    date_string = \"{:4d}{:02d}{:02d}\".format(year, month, day)\n",
    "else:\n",
    "    date_string = \"{:4d}{:02d}\".format(year, month)\n",
    "chosen_bin_file_name_prefix = bin_file_name_prefix + date_string[2:]\n",
    "print(chosen_bin_file_name_prefix)"
   ]
  },
  {
   "cell_type": "code",
   "execution_count": null,
   "metadata": {
    "collapsed": true
   },
   "outputs": [],
   "source": [
    "def read_data_from_radolan(radfile):\n",
    "    radfile = wrl.util.get_wradlib_data_file(radfile)\n",
    "    data, attrs = wrl.io.read_radolan_composite(radfile)\n",
    "    data = np.ma.masked_equal(data, -9999)\n",
    "    return data"
   ]
  },
  {
   "cell_type": "code",
   "execution_count": null,
   "metadata": {},
   "outputs": [
    {
     "name": "stdout",
     "output_type": "stream",
     "text": [
      "raa01-yw2017.002_10000-1604\n"
     ]
    }
   ],
   "source": [
    "os.environ[\"WRADLIB_DATA\"] = data_dir + str(year) + \"/\"\n",
    "os.chdir(data_dir + str(year) + \"/\")\n",
    "bin_data = []\n",
    "for file in glob.glob(chosen_bin_file_name_prefix + \"*\"):\n",
    "    try:\n",
    "        data = read_data_from_radolan(file)\n",
    "        bin_data.append(data)\n",
    "    except OSError as e:\n",
    "        print(\"Could not read file: \" + str(e))"
   ]
  },
  {
   "cell_type": "code",
   "execution_count": null,
   "metadata": {},
   "outputs": [],
   "source": [
    "hist, bin_edges = np.histogram(bin_data, density=True)\n",
    "plt.hist(hist, bins='auto')  # arguments are passed to np.histogram\n",
    "plt.title(\"Histogram with 'auto' bins\")\n",
    "plt.show()"
   ]
  },
  {
   "cell_type": "code",
   "execution_count": null,
   "metadata": {
    "collapsed": true
   },
   "outputs": [],
   "source": []
  }
 ],
 "metadata": {
  "kernelspec": {
   "display_name": "Python [conda env:testingENV]",
   "language": "python",
   "name": "conda-env-testingENV-py"
  },
  "language_info": {
   "codemirror_mode": {
    "name": "ipython",
    "version": 3
   },
   "file_extension": ".py",
   "mimetype": "text/x-python",
   "name": "python",
   "nbconvert_exporter": "python",
   "pygments_lexer": "ipython3",
   "version": "3.6.7"
  }
 },
 "nbformat": 4,
 "nbformat_minor": 2
}
