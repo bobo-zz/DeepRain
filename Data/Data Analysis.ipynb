{
 "cells": [
  {
   "cell_type": "code",
   "execution_count": 2,
   "metadata": {
    "collapsed": true,
    "scrolled": true
   },
   "outputs": [],
   "source": [
    "import wradlib as wrl\n",
    "import os\n",
    "import glob\n",
    "import numpy as np\n",
    "import cv2\n",
    "import matplotlib.pyplot as plt\n",
    "\n",
    "bin_file_name_prefix = \"raa01-yw2017.002_10000-\"\n",
    "img_file_name_prefix = \"scaled_\"\n",
    "\n",
    "# Subdirectories with years\n",
    "image_dir=\"/data/Radarbilder_DWD/minutely/\"\n",
    "data_dir=\"/data_hdd/Radardaten/minutely/uncompressed/\"\n",
    "\n",
    "year=2016\n",
    "month=8\n",
    "day_begin=10\n",
    "day_end=17"
   ]
  },
  {
   "cell_type": "code",
   "execution_count": 3,
   "metadata": {
    "collapsed": true
   },
   "outputs": [],
   "source": [
    "def get_filename_prefix(year, month, day):\n",
    "    date_string_w_full_year = \"{:4d}{:02d}{:02d}\".format(year, month, day)\n",
    "    return date_string_w_full_year[2:]"
   ]
  },
  {
   "cell_type": "code",
   "execution_count": 4,
   "metadata": {
    "collapsed": true
   },
   "outputs": [],
   "source": [
    "def read_data_from_radolan(radfile):\n",
    "    radfile = wrl.util.get_wradlib_data_file(radfile)\n",
    "    data, attrs = wrl.io.read_radolan_composite(radfile)\n",
    "    data = np.ma.masked_equal(data, -9999)\n",
    "    return data"
   ]
  },
  {
   "cell_type": "code",
   "execution_count": 23,
   "metadata": {
    "collapsed": true
   },
   "outputs": [],
   "source": [
    "def read_image_gray(image_file):\n",
    "    image = cv2.imread(image_file)\n",
    "    image = cv2.cvtColor(image, cv2.COLOR_BGR2GRAY)\n",
    "    return image"
   ]
  },
  {
   "cell_type": "code",
   "execution_count": 26,
   "metadata": {
    "collapsed": true
   },
   "outputs": [],
   "source": [
    "def get_all_binary_data_in_range(year, month, day_begin, day_end):\n",
    "    os.environ[\"WRADLIB_DATA\"] = data_dir + str(year) + \"/\"\n",
    "    os.chdir(data_dir + str(year) + \"/\")\n",
    "    bin_data = np.array([])\n",
    "    for day in range(day_begin, day_end):\n",
    "        filename_prefix = bin_file_name_prefix + get_filename_prefix(year, month, day)\n",
    "        for file in glob.glob(filename_prefix + \"*\"):\n",
    "            try:\n",
    "                if len(bin_data)==0:\n",
    "                    bin_data=read_data_from_radolan(file)\n",
    "                else:\n",
    "                    data = read_data_from_radolan(file)\n",
    "                    np.concatenate((bin_data, data))\n",
    "            except OSError as e:\n",
    "                print(\"Could not read file: \" + str(e))\n",
    "    return bin_data\n",
    "\n",
    "def get_all_image_data_in_range(year, month, day_begin, day_end):\n",
    "    os.chdir(image_dir + str(year) + \"/\")\n",
    "    img_data = np.array([])\n",
    "    for day in range(day_begin, day_end):\n",
    "        filename_prefix = img_file_name_prefix + get_filename_prefix(year, month, day)\n",
    "        for file in glob.glob(filename_prefix + \"*\"):\n",
    "            # Read image, append to data\n",
    "            if len(img_data) == 0:\n",
    "                img_data = read_image_gray(file)\n",
    "            else:\n",
    "                image = read_image_gray(file)\n",
    "                np.concatenate((img_data, image))\n",
    "    return img_data"
   ]
  },
  {
   "cell_type": "code",
   "execution_count": 27,
   "metadata": {},
   "outputs": [
    {
     "name": "stdout",
     "output_type": "stream",
     "text": [
      "<class 'numpy.ma.core.MaskedArray'>\n",
      "1100\n",
      "0.0 / 4.66\n",
      "<class 'numpy.ndarray'>\n",
      "1100\n",
      "0 / 220\n"
     ]
    }
   ],
   "source": [
    "bin_data = get_all_binary_data_in_range(year, month, day_begin, day_end)\n",
    "print(type(bin_data))\n",
    "print(len(bin_data))\n",
    "print(\"{} / {}\".format(bin_data.min(), bin_data.max()))\n",
    "\n",
    "img_data = get_all_image_data_in_range(year, month, day_begin, day_end)\n",
    "print(type(img_data))\n",
    "print(len(img_data))\n",
    "print(\"{} / {}\".format(img_data.min(), img_data.max()))"
   ]
  },
  {
   "cell_type": "code",
   "execution_count": 28,
   "metadata": {},
   "outputs": [
    {
     "data": {
      "image/png": "[encoded data removed]",
      "text/plain": [
       "<Figure size 432x288 with 1 Axes>"
      ]
     },
     "metadata": {
      "needs_background": "light"
     },
     "output_type": "display_data"
    }
   ],
   "source": [
    "#hist, bin_edges = np.histogram(bin_data, density=True)\n",
    "plt.hist(bin_data, bins='auto')  # arguments are passed to np.histogram\n",
    "plt.title(\"Binary data (auto bins)\")\n",
    "plt.show()"
   ]
  },
  {
   "cell_type": "code",
   "execution_count": 29,
   "metadata": {},
   "outputs": [
    {
     "data": {
      "image/png": "[encoded data removed]",
      "text/plain": [
       "<Figure size 432x288 with 1 Axes>"
      ]
     },
     "metadata": {
      "needs_background": "light"
     },
     "output_type": "display_data"
    }
   ],
   "source": [
    "plt.hist(img_data, bins='auto')  # arguments are passed to np.histogram\n",
    "plt.title(\"Image data (auto bins)\")\n",
    "plt.show()"
   ]
  },
  {
   "cell_type": "code",
   "execution_count": null,
   "metadata": {
    "collapsed": true
   },
   "outputs": [],
   "source": []
  }
 ],
 "metadata": {
  "kernelspec": {
   "display_name": "Python [conda env:testingENV]",
   "language": "python",
   "name": "conda-env-testingENV-py"
  },
  "language_info": {
   "codemirror_mode": {
    "name": "ipython",
    "version": 3
   },
   "file_extension": ".py",
   "mimetype": "text/x-python",
   "name": "python",
   "nbconvert_exporter": "python",
   "pygments_lexer": "ipython3",
   "version": "3.6.7"
  }
 },
 "nbformat": 4,
 "nbformat_minor": 2
}
