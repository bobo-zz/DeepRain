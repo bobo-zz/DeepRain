{
 "cells": [
  {
   "cell_type": "code",
   "execution_count": 23,
   "metadata": {
    "collapsed": true
   },
   "outputs": [],
   "source": [
    "import wradlib as wrl\n",
    "import os\n",
    "import glob\n",
    "import numpy as np\n",
    "import cv2\n",
    "import matplotlib.pyplot as plt\n",
    "\n",
    "bin_file_name_prefix = \"raa01-yw2017.002_10000-\"\n",
    "img_file_name_prefix = \"scaled_\"\n",
    "\n",
    "# Subdirectories with years\n",
    "image_dir=\"/grossePlatte/Radardaten/PNG/\"\n",
    "data_dir=\"/grossePlatte/Radardaten/\"\n",
    "\n",
    "year=2016\n",
    "month=8\n",
    "day_begin=12\n",
    "day_end=16"
   ]
  },
  {
   "cell_type": "code",
   "execution_count": 24,
   "metadata": {
    "collapsed": true
   },
   "outputs": [],
   "source": [
    "def get_filename_prefix(year, month, day):\n",
    "    date_string_w_full_year = \"{:4d}{:02d}{:02d}\".format(year, month, day)\n",
    "    return date_string_w_full_year[2:]"
   ]
  },
  {
   "cell_type": "code",
   "execution_count": 25,
   "metadata": {
    "collapsed": true
   },
   "outputs": [],
   "source": [
    "def read_data_from_radolan(radfile):\n",
    "    radfile = wrl.util.get_wradlib_data_file(radfile)\n",
    "    data, attrs = wrl.io.read_radolan_composite(radfile)\n",
    "    data = np.ma.masked_equal(data, -9999)\n",
    "    return data"
   ]
  },
  {
   "cell_type": "code",
   "execution_count": 26,
   "metadata": {
    "collapsed": true
   },
   "outputs": [],
   "source": [
    "def read_image_gray(image_file):\n",
    "    image = cv2.imread(image_file)\n",
    "    image = cv2.cvtColor(image, cv2.COLOR_BGR2GRAY)\n",
    "    return image"
   ]
  },
  {
   "cell_type": "code",
   "execution_count": 27,
   "metadata": {
    "collapsed": true
   },
   "outputs": [],
   "source": [
    "def get_all_binary_data_in_range(year, month, day_begin, day_end):\n",
    "    os.environ[\"WRADLIB_DATA\"] = data_dir + str(year) + \"/\"\n",
    "    os.chdir(data_dir + str(year) + \"/\")\n",
    "    bin_data = np.array([])\n",
    "    for day in range(day_begin, day_end):\n",
    "        filename_prefix = bin_file_name_prefix + get_filename_prefix(year, month, day)\n",
    "        for file in glob.glob(filename_prefix + \"*\"):\n",
    "            try:\n",
    "                data = read_data_from_radolan(file).flatten()\n",
    "                bin_data = np.append(bin_data, data.flatten())\n",
    "            except OSError as e:\n",
    "                print(\"Could not read file: \" + str(e))\n",
    "    return bin_data\n",
    "\n",
    "def get_all_image_data_in_range(year, month, day_begin, day_end):\n",
    "    os.chdir(image_dir + str(year) + \"/\")\n",
    "    img_data = np.array([])\n",
    "    for day in range(day_begin, day_end):\n",
    "        filename_prefix = img_file_name_prefix + get_filename_prefix(year, month, day)\n",
    "        for file in glob.glob(filename_prefix + \"*\"):\n",
    "            image = read_image_gray(file)\n",
    "            img_data = np.append(img_data, image)\n",
    "    return img_data"
   ]
  },
  {
   "cell_type": "code",
   "execution_count": null,
   "metadata": {},
   "outputs": [
    {
     "name": "stdout",
     "output_type": "stream",
     "text": [
      "Raw data:\n"
     ]
    }
   ],
   "source": [
    "print(\"Raw data:\")\n",
    "bin_data = get_all_binary_data_in_range(year, month, day_begin, day_end)\n",
    "print(type(bin_data))\n",
    "print(len(bin_data))\n",
    "print(\"{} / {}\".format(bin_data.min(), bin_data.max()))\n",
    "\n",
    "print(\"Image data:\")\n",
    "img_data = get_all_image_data_in_range(year, month, day_begin, day_end)\n",
    "print(type(img_data))\n",
    "print(len(img_data))\n",
    "print(\"{} / {}\".format(img_data.min(), img_data.max()))"
   ]
  },
  {
   "cell_type": "code",
   "execution_count": 21,
   "metadata": {},
   "outputs": [
    {
     "data": {
      "image/png": "[encoded data removed]",
      "text/plain": [
       "<Figure size 432x288 with 1 Axes>"
      ]
     },
     "metadata": {
      "needs_background": "light"
     },
     "output_type": "display_data"
    }
   ],
   "source": [
    "#hist, bin_edges = np.histogram(bin_data, density=True)\n",
    "plt.hist(bin_data, bins='auto', histtype='bar')  # arguments are passed to np.histogram\n",
    "plt.title(\"Binary data (auto bins)\")\n",
    "plt.show()"
   ]
  },
  {
   "cell_type": "code",
   "execution_count": 22,
   "metadata": {
    "scrolled": true
   },
   "outputs": [
    {
     "data": {
      "image/png": "[encoded data removed]",
      "text/plain": [
       "<Figure size 432x288 with 1 Axes>"
      ]
     },
     "metadata": {
      "needs_background": "light"
     },
     "output_type": "display_data"
    }
   ],
   "source": [
    "plt.hist(img_data.flatten(), bins='auto')  # arguments are passed to np.histogram\n",
    "plt.title(\"Image data (auto bins)\")\n",
    "plt.show()"
   ]
  },
  {
   "cell_type": "code",
   "execution_count": null,
   "metadata": {
    "collapsed": true
   },
   "outputs": [],
   "source": [
    "img_data.shape"
   ]
  },
  {
   "cell_type": "markdown",
   "metadata": {},
   "source": [
    "### Edits:\n",
    "* eindimensionales Histogramm ist oft einfacher zu interpretieren:\n",
    "    -> unterschiede werden sichtbar, aber auch die Masked eigenschaft ist eher negativ zum Auswerten des Arrays, daher clipping\n",
    "* Forschleife die gesammtes Bild durchsucht macht unterschiedliche Wertebereiche nochmal sichtbar.\n",
    "* Schlussendlich gilt noch zu klären, ob überhaupt das selbe Bild verglichen wird, imshow sieht durchaus sehr unterschiedlich aus\n",
    "    "
   ]
  },
  {
   "cell_type": "code",
   "execution_count": null,
   "metadata": {
    "collapsed": true
   },
   "outputs": [],
   "source": [
    "plt.hist(img_data[500], bins=20, log=True)  # arguments are passed to np.histogram\n",
    "plt.title(\"Image data (Zeile 500)\")\n",
    "plt.show()\n",
    "plt.hist(bin_data[500], bins=20, log=True)  # arguments are passed to np.histogram\n",
    "plt.title(\"Binary data (Zeile 500)\")\n",
    "plt.show()\n",
    "###\n",
    "print(\"\\n\\n\\n\")\n",
    "plt.hist(img_data.flatten(), bins=20, log=True)  # arguments are passed to np.histogram\n",
    "plt.title(\"Image data flattened (auto bins)\")\n",
    "plt.show()\n",
    "clipped_bin = bin_data.flatten()\n",
    "clipped_bin[clipped_bin<-1000] = 0\n",
    "plt.hist(clipped_bin, bins=20, log=True)  # arguments are passed to np.histogram\n",
    "plt.title(\"Binary data flattened (auto bins)\")\n",
    "plt.show()\n",
    "print(img_data[500])"
   ]
  },
  {
   "cell_type": "code",
   "execution_count": null,
   "metadata": {
    "collapsed": true
   },
   "outputs": [],
   "source": [
    "img_a = {}\n",
    "for i in range(1100):\n",
    "    for j in range(900):\n",
    "        if img_data[i][j] in img_a:\n",
    "            img_a[img_data[i][j]] += 1\n",
    "            continue\n",
    "        img_a[img_data[i][j]] = 1\n",
    "print(img_a)\n",
    "\n",
    "bin_a = []\n",
    "for i in range(1100):\n",
    "    for j in range(900):\n",
    "        if bin_data[i][j] in bin_a:\n",
    "            continue\n",
    "        \n",
    "        bin_a.append(bin_data[i][j])\n",
    "print(bin_a)\n",
    "print(len(bin_a))\n"
   ]
  },
  {
   "cell_type": "code",
   "execution_count": null,
   "metadata": {
    "collapsed": true
   },
   "outputs": [],
   "source": [
    "import matplotlib.pyplot as plt\n",
    "plt.imshow(img_data, cmap=\"gray\", vmax=80)\n",
    "plt.show()\n",
    "plt.imshow(bin_data, cmap=\"gray\", vmax=1)\n",
    "plt.show()\n",
    "\n"
   ]
  },
  {
   "cell_type": "code",
   "execution_count": null,
   "metadata": {
    "collapsed": true
   },
   "outputs": [],
   "source": []
  }
 ],
 "metadata": {
  "kernelspec": {
   "display_name": "Python [conda env:testingENV]",
   "language": "python",
   "name": "conda-env-testingENV-py"
  },
  "language_info": {
   "codemirror_mode": {
    "name": "ipython",
    "version": 3
   },
   "file_extension": ".py",
   "mimetype": "text/x-python",
   "name": "python",
   "nbconvert_exporter": "python",
   "pygments_lexer": "ipython3",
   "version": "3.6.7"
  }
 },
 "nbformat": 4,
 "nbformat_minor": 2
}
