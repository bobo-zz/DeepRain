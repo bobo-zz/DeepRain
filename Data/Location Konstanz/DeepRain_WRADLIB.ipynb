{
 "cells": [
  {
   "cell_type": "code",
   "execution_count": 1,
   "metadata": {
    "collapsed": true
   },
   "outputs": [],
   "source": [
    "# https://docs.wradlib.org/en/stable/installation.html \n",
    "# ENABLE ENVIRONMENT FIRST!\n",
    "# Environment Access via Anaconda Navigator\n",
    "import wradlib as wrl\n",
    "import matplotlib.pyplot as pl\n",
    "import warnings\n",
    "warnings.filterwarnings('ignore')\n",
    "try:\n",
    "    get_ipython().magic(\"matplotlib inline\")\n",
    "except:\n",
    "    pl.ion()\n",
    "import numpy as np"
   ]
  },
  {
   "cell_type": "code",
   "execution_count": 13,
   "metadata": {
    "collapsed": true
   },
   "outputs": [],
   "source": [
    "def read_radolan(radfile):\n",
    "    radfile = wrl.util.get_wradlib_data_file('' + radfile)\n",
    "    return wrl.io.read_radolan_composite(radfile)"
   ]
  },
  {
   "cell_type": "code",
   "execution_count": 39,
   "metadata": {
    "collapsed": true
   },
   "outputs": [],
   "source": [
    "import os\n",
    "# Path to DATA location (Change to match Crwaler )\n",
    "os.environ[\"WRADLIB_DATA\"] = r\"/data_hdd/Radardaten/minutely/uncompressed/2016\""
   ]
  },
  {
   "cell_type": "markdown",
   "metadata": {},
   "source": [
    "#### Grid \n",
    "See [RADOLAN GRID](https://docs.wradlib.org/en/stable/notebooks/radolan/radolan_grid.html)\n",
    "\n",
    "Recommended Source: \n",
    "RX/WX: original radardata in qualitative RVP6-units (1 byte coded)  <- USED <br>\n",
    "RZ: radardata after correction of PBB converted to rainrate with improved Z-R-relation <br>\n",
    "RY: radardata after correction with Quality-comp osit (QY) <br>\n",
    "\n",
    "[RADOLAN-Produktübersicht](https://www.dwd.de/DE/leistungen/radolan/produktuebersicht/radolan_produktuebersicht_pdf.pdf?__blob=publicationFile&v=6)\n",
    "\n"
   ]
  },
  {
   "cell_type": "code",
   "execution_count": 15,
   "metadata": {},
   "outputs": [
    {
     "name": "stdout",
     "output_type": "stream",
     "text": [
      "(1100, 900, 2), (9.1727, 47.6621)\n"
     ]
    }
   ],
   "source": [
    "radolan_grid_ll = wrl.georef.get_radolan_grid(1100,900, wgs84=True)\n",
    "\n",
    "print(\"{0}, ({1:.4f}, {2:.4f})\".format(radolan_grid_ll.shape, *radolan_grid_ll[156,377]))\n",
    "#156,377\n",
    "    \n",
    "       \n",
    "    #lats = [47.66033]\n",
    "    #lons = [9.17582]"
   ]
  },
  {
   "cell_type": "code",
   "execution_count": 60,
   "metadata": {
    "collapsed": true
   },
   "outputs": [],
   "source": [
    "def plot_radolan(data, attrs, grid, clabel=None):\n",
    "    fig = pl.figure(figsize=(9,11))\n",
    "    ax = fig.add_subplot(111, aspect='equal')\n",
    "    x = grid[:,:,0]\n",
    "    y = grid[:,:,1]\n",
    "    \n",
    "    #Add plot to map\n",
    "    plot_cities(ax)\n",
    "    pm = ax.pcolormesh(x, y, data, cmap='viridis')\n",
    "    pl.axis('off')\n",
    "    pl.savefig('/data/DeepRain/Data/Location Konstanz/Location.png', dpi=100)"
   ]
  },
  {
   "cell_type": "code",
   "execution_count": 61,
   "metadata": {},
   "outputs": [],
   "source": [
    "def plot_cities(ax):\n",
    "    radolan_grid_xy = wrl.georef.get_radolan_grid(1100,900)\n",
    "    print(\"{0}, ({1:.4f}, {2:.4f})\".format(radolan_grid_xy.shape, *radolan_grid_xy[156,377,:]))\n",
    "     #57,445\\n\n",
    "    radolan_grid_ll = wrl.georef.get_radolan_grid(1100,900, wgs84=True)\n",
    "    print(\"{0}, ({1:.4f}, {2:.4f})\".format(radolan_grid_ll.shape, *radolan_grid_ll[156,377,:])),\n",
    "    #Add rescaled params to map?\\n\",\n",
    "    lats = [-4602.6447]\n",
    "    lons = [-66.4622]\n",
    "    cities = ['Konstanz']\n",
    "    for lon, lat, city in zip(lons, lats, cities):\n",
    "        ax.plot(lon, lat, 'ro', zorder=1)\n",
    "        ax.text(lon + 0.01, lat + 0.01, city, fontsize='large',color='white')"
   ]
  },
  {
   "cell_type": "code",
   "execution_count": 62,
   "metadata": {},
   "outputs": [
    {
     "name": "stdout",
     "output_type": "stream",
     "text": [
      "(1100, 900, 2), (-66.4622, -4602.6447)\n",
      "(1100, 900, 2), (9.1727, 47.6621)\n"
     ]
    },
    {
     "data": {
      "image/png": "[encoded data removed]",
      "text/plain": [
       "<Figure size 648x792 with 1 Axes>"
      ]
     },
     "metadata": {
      "needs_background": "light"
     },
     "output_type": "display_data"
    }
   ],
   "source": [
    "for subdir, dirs, files in os.walk(os.environ[\"WRADLIB_DATA\"]):\n",
    "    for file in files:\n",
    "        if '.png' in file:\n",
    "            continue\n",
    "        data, attrs = read_radolan(file)\n",
    "        data = np.ma.masked_equal(data, -9999)\n",
    "        plot_radolan(data, attrs, radolan_grid_xy)\n",
    "        break;"
   ]
  },
  {
   "cell_type": "code",
   "execution_count": 5,
   "metadata": {
    "collapsed": true
   },
   "outputs": [],
   "source": []
  },
  {
   "cell_type": "code",
   "execution_count": 25,
   "metadata": {
    "collapsed": true
   },
   "outputs": [],
   "source": []
  },
  {
   "cell_type": "code",
   "execution_count": null,
   "metadata": {},
   "outputs": [],
   "source": []
  },
  {
   "cell_type": "code",
   "execution_count": null,
   "metadata": {
    "collapsed": true
   },
   "outputs": [],
   "source": []
  },
  {
   "cell_type": "code",
   "execution_count": 8,
   "metadata": {
    "collapsed": true
   },
   "outputs": [],
   "source": []
  },
  {
   "cell_type": "code",
   "execution_count": 6,
   "metadata": {
    "collapsed": true
   },
   "outputs": [],
   "source": []
  },
  {
   "cell_type": "code",
   "execution_count": 34,
   "metadata": {
    "collapsed": true
   },
   "outputs": [],
   "source": []
  },
  {
   "cell_type": "code",
   "execution_count": null,
   "metadata": {
    "collapsed": true
   },
   "outputs": [],
   "source": []
  },
  {
   "cell_type": "code",
   "execution_count": null,
   "metadata": {
    "collapsed": true
   },
   "outputs": [],
   "source": [
    "\n",
    "    "
   ]
  },
  {
   "cell_type": "code",
   "execution_count": 14,
   "metadata": {
    "collapsed": true
   },
   "outputs": [],
   "source": [
    "\n",
    "    "
   ]
  },
  {
   "cell_type": "code",
   "execution_count": null,
   "metadata": {
    "collapsed": true
   },
   "outputs": [],
   "source": []
  },
  {
   "cell_type": "code",
   "execution_count": null,
   "metadata": {
    "collapsed": true
   },
   "outputs": [],
   "source": []
  }
 ],
 "metadata": {
  "kernelspec": {
   "display_name": "Python [conda env:testingENV]",
   "language": "python",
   "name": "conda-env-testingENV-py"
  },
  "language_info": {
   "codemirror_mode": {
    "name": "ipython",
    "version": 3
   },
   "file_extension": ".py",
   "mimetype": "text/x-python",
   "name": "python",
   "nbconvert_exporter": "python",
   "pygments_lexer": "ipython3",
   "version": "3.6.7"
  }
 },
 "nbformat": 4,
 "nbformat_minor": 2
}
