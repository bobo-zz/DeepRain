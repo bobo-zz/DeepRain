{
 "cells": [
  {
   "cell_type": "code",
   "execution_count": 4,
   "metadata": {},
   "outputs": [
    {
     "name": "stderr",
     "output_type": "stream",
     "text": [
      "C:\\Users\\Tim\\Anaconda3\\lib\\site-packages\\sklearn\\ensemble\\weight_boosting.py:29: DeprecationWarning: numpy.core.umath_tests is an internal NumPy module and should not be imported. It will be removed in a future NumPy release.\n",
      "  from numpy.core.umath_tests import inner1d\n"
     ]
    }
   ],
   "source": [
    "# ROC-Kurve Starter\n",
    "import numpy as np\n",
    "import pandas as pd\n",
    "import matplotlib.pyplot as plt\n",
    "import seaborn as sns\n",
    "# roc curve and auc score\n",
    "from sklearn.datasets import make_classification\n",
    "from sklearn.neighbors import KNeighborsClassifier\n",
    "from sklearn.ensemble import RandomForestClassifier\n",
    "from sklearn.model_selection import train_test_split\n",
    "from sklearn.metrics import roc_curve\n",
    "from sklearn.metrics import roc_auc_score"
   ]
  },
  {
   "cell_type": "code",
   "execution_count": 5,
   "metadata": {},
   "outputs": [],
   "source": [
    "def plot_roc_curve(fpr, tpr):\n",
    "    plt.plot(fpr, tpr, color='orange', label='ROC')\n",
    "    plt.plot([0, 1], [0, 1], color='darkblue', linestyle='--')\n",
    "    plt.xlabel('False Positive Rate')\n",
    "    plt.ylabel('True Positive Rate')\n",
    "    plt.title('Receiver Operating Characteristic (ROC) Curve')\n",
    "    plt.legend()\n",
    "    plt.show()"
   ]
  },
  {
   "cell_type": "code",
   "execution_count": null,
   "metadata": {},
   "outputs": [],
   "source": [
    "# ROC Curve: \n",
    "# Grenzwertoptimierungskurve \n",
    "\n",
    "# Darstellung die einen Vergleich der verschiedenen COnfusion Matrizen ermöglicht (Anhand der TPR und FPR(siehe unten))"
   ]
  },
  {
   "cell_type": "code",
   "execution_count": null,
   "metadata": {},
   "outputs": [],
   "source": [
    "#Berechne X-Achse: True Positive Rate (Sensitivity)\n",
    "TPR = True Positives /  (True Positives + False Negatives)\n",
    "# Rate der richtig Kategorisierten postiven Ereignisse ( In unserem Fall Kein Regen vorhergesagt und es regnet nicht) \n",
    "# Optimaler Wert wäre hier 0\n",
    "\n",
    "#Y-Achse: False Positive Rate \n",
    "FPR  = False Positives / False Positive + True Negatives\n",
    "# Rate der falsch kategorisierten negativen Ereignisse (Kein Regen vorhergesagt aber es regenet) \n",
    "#und der Gesamtanzahl der negativen Ereignisse   "
   ]
  },
  {
   "cell_type": "code",
   "execution_count": null,
   "metadata": {},
   "outputs": [],
   "source": [
    "# Werte: Siehe Etiennes Erstellung der Confusion Matrix\n",
    "# Berechnung mit Treshold 0\n",
    "# X-Achse: 2218754 / (2218754 + 45636) = 0.9798\n",
    "# Y-Achse: 85427 / (85427 + 201991) = 0.2972"
   ]
  },
  {
   "cell_type": "code",
   "execution_count": null,
   "metadata": {},
   "outputs": [],
   "source": [
    "# Berechnung mit Treshold 2\n",
    "# X-Achse: 2272947 / (2272947 + 39276) = 0.9830\n",
    "# Y-Achse: 78475 / (78475 + 161110) = 0.3275"
   ]
  },
  {
   "cell_type": "code",
   "execution_count": null,
   "metadata": {},
   "outputs": [],
   "source": [
    "# Berechnung mit Treshold 4\n",
    "# X-Achse: 2376736 / (2376736 + 25441) = 0.9894\n",
    "# Y-Achse: 65381 / (65381 + 84250) = 0.4369"
   ]
  },
  {
   "cell_type": "code",
   "execution_count": 6,
   "metadata": {},
   "outputs": [
    {
     "data": {
      "image/png": "[encoded data removed]",
      "text/plain": [
       "<Figure size 432x288 with 1 Axes>"
      ]
     },
     "metadata": {
      "needs_background": "light"
     },
     "output_type": "display_data"
    }
   ],
   "source": [
    "# Hinzufügen der Werte und plott:\n",
    "# Erster Wert mit Treshold '0' ist am besten geeignet\n",
    "\n",
    "# Hier könnten noch Grenzwerte mit \"Wir vermuten, dass es nie Regnet\", \n",
    "# \"Wir vermuten, dass es immer regnet\" hinzugefügt werden\n",
    "tpr = [0.9798, 0.9830, 0.9894]\n",
    "fpr = [0.2972, 0.3275, 0.4369]\n",
    "plot_roc_curve(fpr, tpr)\n"
   ]
  }
 ],
 "metadata": {
  "kernelspec": {
   "display_name": "Python 3",
   "language": "python",
   "name": "python3"
  },
  "language_info": {
   "codemirror_mode": {
    "name": "ipython",
    "version": 3
   },
   "file_extension": ".py",
   "mimetype": "text/x-python",
   "name": "python",
   "nbconvert_exporter": "python",
   "pygments_lexer": "ipython3",
   "version": "3.7.0"
  }
 },
 "nbformat": 4,
 "nbformat_minor": 2
}
