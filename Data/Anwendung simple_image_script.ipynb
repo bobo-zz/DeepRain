{
 "cells": [
  {
   "cell_type": "markdown",
   "metadata": {
    "collapsed": true
   },
   "source": [
    "## Ein beispiel, wie die Bilder eingelesen, verarbeitet und anschließend zum Trainieren verwendet werden können.\n",
    "Achtung, für dieses Script muss der Defaul Kernel verwendet werden!"
   ]
  },
  {
   "cell_type": "code",
   "execution_count": 8,
   "metadata": {
    "collapsed": true
   },
   "outputs": [],
   "source": [
    "## Use default Python3 Kernel for this script\n",
    "import simple_image_script as sis"
   ]
  },
  {
   "cell_type": "markdown",
   "metadata": {},
   "source": [
    "Folgender Codeabschnitt wird nur zum betrachten einzelner Bilder auf der Festplatte verwendet (z.B. visualisierung von Anomalien) und ist zum Trainieren nicht vorgesehen."
   ]
  },
  {
   "cell_type": "code",
   "execution_count": 12,
   "metadata": {},
   "outputs": [
    {
     "name": "stdout",
     "output_type": "stream",
     "text": [
      "lese Bild: /data/Radarbilder_DWD/2018/RW201810.tar.gz/scaled_raa01-rw_10000-1810231950-dwd---bin.png\n",
      "Eingelesenes Bild hat zu hohe Dimension (wird gekürzt auf 2D)\n",
      "Eingelesenes Bild hat zu hohe Dimension (wird gekürzt auf 2D)\n",
      "Eingelesenes Bild hat zu hohe Dimension (wird gekürzt auf 2D)\n",
      "Eingelesenes Bild hat zu hohe Dimension (wird gekürzt auf 2D)\n"
     ]
    },
    {
     "data": {
      "image/png": "[encoded data removed]",
      "text/plain": [
       "<matplotlib.figure.Figure at 0x7f03bdfffe80>"
      ]
     },
     "metadata": {
      "needs_background": "light"
     },
     "output_type": "display_data"
    }
   ],
   "source": [
    "# Arbeiten direkt auf Bildern geht mit der Funktion:\n",
    "\n",
    "#path = \"/data/Radarbilder_DWD/TEST/raa01-rw_10000-0506301650-dwd---bin.gz.png\"        # RGBA Bild\n",
    "path = \"/data/Radarbilder_DWD/2018/RW201810.tar.gz/scaled_raa01-rw_10000-1810231950-dwd---bin.png\"#\"/data/Radarbilder_DWD/TEST/scaled_raa01-rw_10000-0506301650-dwd---bin.gz.png\" # Grayscale Bild\n",
    "print(\"lese Bild:\", path)\n",
    "# Einfaches einlesen eines Bildes:\n",
    "OriginalBild = sis.open_one_img(path)\n",
    "# Auswählen eines Ausschnittes (zb. region 200x200 Pixel um Konstanz):\n",
    "Ausschnitt = sis.open_one_img(path, _subimg=((500, 500), (200, 200)))\n",
    "# Skalierter output -> output-Bildgröße = 60x60\n",
    "Skaliert = sis.open_one_img(path, _resize_shape=60)\n",
    "# alles in einem, mit show_result -> öffnet Plot, welcher die einzelnen Schritte zeigt\n",
    "Demo = sis.open_one_img(path, _subimg=((100, 100), (200, 200)), _resize_shape=(60, 60), raiseError=True, show_result=True)\n",
    "\n",
    "# _subimg:       Tupel mit start Koordinate und größe des Auschnitts\n",
    "# _resize_shape: Tupel oder int mit gewünschter outputgröße (_resize_shape=30 bedeutet 30x30 pixel)\n",
    "# raiseError:    True = schmeißt Fehler, wenn nicht alles nach Plan verläuft (z.B. subimg nicht möglich), False liefert dann noch größtmögliches Bild\n",
    "# show_result:   True = Zeigt die drei Bilder zu den eingegebenen Parametern (OriginalBild, Ausschnitt, Skaliert)\n",
    "# Falls die Meldung: Eingelesenes Bild hat zu hohe Dimension (wird gekürzt auf 2D) kommt, \n",
    "#                    handelt es sich um ein RGB oder RGBA Bild!\n",
    "\n",
    "#print(\"zum vergleich, die RGBA-Bilder sehen wie folgt aus (selbes Bild, selber Ausschnitt, selbe Skalierung):\")\n",
    "#path = \"/data/Radarbilder_DWD/TEST/raa01-rw_10000-0506301650-dwd---bin.gz.png\"        # RGBA Bild\n",
    "#Demo = sis.open_one_img(path, _subimg=((100, 100), (200, 200)), _resize_shape=(60, 60), raiseError=True, show_result=True)"
   ]
  },
  {
   "cell_type": "code",
   "execution_count": 27,
   "metadata": {},
   "outputs": [
    {
     "data": {
      "text/plain": [
       "(array([807570,   1541,    499,    255,    103,     22,      6,      3,\n",
       "             1,      0,      0,      0,      0,      0,      0,      0,\n",
       "             0,      0,      0,      0,      0,      0,      0,      0,\n",
       "             0,      0,      0,      0,      0,      0,      0,      0,\n",
       "             0,      0,      0,      0,      0,      0,      0,      0,\n",
       "             0,      0,      0,      0,      0,      0,      0,      0,\n",
       "             0,      0,      0,      0,      0,      0,      0,      0,\n",
       "             0,      0,      0,      0,      0,      0,      0,      0,\n",
       "             0,      0,      0,      0,      0,      0,      0,      0,\n",
       "             0,      0,      0,      0,      0,      0,      0,      0,\n",
       "             0,      0,      0,      0,      0,      0,      0,      0,\n",
       "             0,      0,      0,      0,      0,      0,      0,      0,\n",
       "             0,      0,      0,      0,      0,      0,      0,      0,\n",
       "             0,      0,      0,      0,      0,      0,      0,      0,\n",
       "             0,      0,      0,      0,      0,      0,      0,      0,\n",
       "             0,      0,      0,      0,      0,      0,      0,      0,\n",
       "             0,      0,      0,      0,      0,      0,      0,      0,\n",
       "             0,      0,      0,      0,      0,      0,      0,      0,\n",
       "             0,      0,      0,      0,      0,      0,      0,      0,\n",
       "             0,      0,      0,      0,      0,      0,      0,      0,\n",
       "             0,      0,      0,      0,      0,      0,      0,      0,\n",
       "             0,      0,      0,      0,      0,      0,      0,      0,\n",
       "             0,      0,      0,      0,      0,      0,      0,      0,\n",
       "             0,      0,      0,      0,      0,      0,      0,      0,\n",
       "             0,      0,      0,      0,      0,      0,      0,      0,\n",
       "             0,      0,      0,      0,      0,      0,      0,      0,\n",
       "             0,      0,      0,      0,      0,      0,      0,      0,\n",
       "             0,      0,      0,      0,      0,      0,      0,      0,\n",
       "             0,      0,      0,      0,      0,      0,      0,      0,\n",
       "             0,      0,      0,      0,      0,      0,      0,      0,\n",
       "             0,      0,      0,      0,      0,      0,      0,      0,\n",
       "             0,      0,      0,      0,      0,      0]),\n",
       " array([  0,   1,   2,   3,   4,   5,   6,   7,   8,   9,  10,  11,  12,\n",
       "         13,  14,  15,  16,  17,  18,  19,  20,  21,  22,  23,  24,  25,\n",
       "         26,  27,  28,  29,  30,  31,  32,  33,  34,  35,  36,  37,  38,\n",
       "         39,  40,  41,  42,  43,  44,  45,  46,  47,  48,  49,  50,  51,\n",
       "         52,  53,  54,  55,  56,  57,  58,  59,  60,  61,  62,  63,  64,\n",
       "         65,  66,  67,  68,  69,  70,  71,  72,  73,  74,  75,  76,  77,\n",
       "         78,  79,  80,  81,  82,  83,  84,  85,  86,  87,  88,  89,  90,\n",
       "         91,  92,  93,  94,  95,  96,  97,  98,  99, 100, 101, 102, 103,\n",
       "        104, 105, 106, 107, 108, 109, 110, 111, 112, 113, 114, 115, 116,\n",
       "        117, 118, 119, 120, 121, 122, 123, 124, 125, 126, 127, 128, 129,\n",
       "        130, 131, 132, 133, 134, 135, 136, 137, 138, 139, 140, 141, 142,\n",
       "        143, 144, 145, 146, 147, 148, 149, 150, 151, 152, 153, 154, 155,\n",
       "        156, 157, 158, 159, 160, 161, 162, 163, 164, 165, 166, 167, 168,\n",
       "        169, 170, 171, 172, 173, 174, 175, 176, 177, 178, 179, 180, 181,\n",
       "        182, 183, 184, 185, 186, 187, 188, 189, 190, 191, 192, 193, 194,\n",
       "        195, 196, 197, 198, 199, 200, 201, 202, 203, 204, 205, 206, 207,\n",
       "        208, 209, 210, 211, 212, 213, 214, 215, 216, 217, 218, 219, 220,\n",
       "        221, 222, 223, 224, 225, 226, 227, 228, 229, 230, 231, 232, 233,\n",
       "        234, 235, 236, 237, 238, 239, 240, 241, 242, 243, 244, 245, 246,\n",
       "        247, 248, 249, 250, 251, 252, 253, 254]))"
      ]
     },
     "execution_count": 27,
     "metadata": {},
     "output_type": "execute_result"
    }
   ],
   "source": [
    "import numpy as np\n",
    "a = OriginalBild[OriginalBild==174] = 0\n",
    "np.amax(a)\n",
    "np.histogram(OriginalBild, bins=np.arange(255))"
   ]
  },
  {
   "cell_type": "markdown",
   "metadata": {},
   "source": [
    "Nachfolgend wird das Umwandeln der Bilder von der Platte zu np-arrays in form von Data-Label paaren gezeigt"
   ]
  },
  {
   "cell_type": "code",
   "execution_count": 7,
   "metadata": {},
   "outputs": [
    {
     "ename": "NameError",
     "evalue": "name 'sis' is not defined",
     "output_type": "error",
     "traceback": [
      "\u001b[0;31m---------------------------------------------------------------------------\u001b[0m",
      "\u001b[0;31mNameError\u001b[0m                                 Traceback (most recent call last)",
      "\u001b[0;32m<ipython-input-7-fe21c0357d70>\u001b[0m in \u001b[0;36m<module>\u001b[0;34m()\u001b[0m\n\u001b[1;32m     13\u001b[0m \u001b[0;31m# einige Parameter haben default werte, angegeben werden muss auf jedenfall:\u001b[0m\u001b[0;34m\u001b[0m\u001b[0;34m\u001b[0m\u001b[0;34m\u001b[0m\u001b[0m\n\u001b[1;32m     14\u001b[0m \u001b[0;31m# path, max_num_samples, n_data, n_label\u001b[0m\u001b[0;34m\u001b[0m\u001b[0;34m\u001b[0m\u001b[0;34m\u001b[0m\u001b[0m\n\u001b[0;32m---> 15\u001b[0;31m \u001b[0mdc\u001b[0m \u001b[0;34m=\u001b[0m \u001b[0msis\u001b[0m\u001b[0;34m.\u001b[0m\u001b[0mData_converter\u001b[0m\u001b[0;34m(\u001b[0m\u001b[0mpath\u001b[0m\u001b[0;34m,\u001b[0m \u001b[0mmax_num_samples\u001b[0m\u001b[0;34m,\u001b[0m \u001b[0mn_data\u001b[0m\u001b[0;34m,\u001b[0m \u001b[0mn_label\u001b[0m\u001b[0;34m,\u001b[0m \u001b[0mstart_img\u001b[0m\u001b[0;34m,\u001b[0m \u001b[0msubimg_startpos\u001b[0m\u001b[0;34m,\u001b[0m \u001b[0msubimg_shape\u001b[0m\u001b[0;34m,\u001b[0m \u001b[0moutput_shape\u001b[0m\u001b[0;34m)\u001b[0m\u001b[0;34m\u001b[0m\u001b[0;34m\u001b[0m\u001b[0m\n\u001b[0m\u001b[1;32m     16\u001b[0m \u001b[0;34m\u001b[0m\u001b[0m\n\u001b[1;32m     17\u001b[0m \u001b[0mprint\u001b[0m\u001b[0;34m(\u001b[0m\u001b[0;34m\"-----------------------------\\n\\n\"\u001b[0m\u001b[0;34m)\u001b[0m\u001b[0;34m\u001b[0m\u001b[0;34m\u001b[0m\u001b[0m\n",
      "\u001b[0;31mNameError\u001b[0m: name 'sis' is not defined"
     ]
    }
   ],
   "source": [
    "# Verwenden des Skripts zum trainieren eines Netzes:\n",
    "#path = \"/data/Radarbilder_DWD/TEST/\"  # Pfad zu den Bilddaten\n",
    "path = \"/data/Radarbilder_DWD/2018/RW201810.tar.gz/\"\n",
    "max_num_samples = 2                   # Maximale anzahl Samples (kann auch -1 sein, für alle einlesen)\n",
    "n_data = 1                            # Anzahl Zeitschritte (t) für die Eingangsdaten (x,y,t) bei n_data=3 werden also\n",
    "                                        # 3 aufeinander folgende Bilder als Eingabe verwendet.\n",
    "n_label = 1                           # Anzahl Zeitschritte (t) für das Label ( wie viele Zeitschritte vorhergesagt werden sollen)\n",
    "start_img = None                      # Noch nicht verwendet, später soll hiermit trainingsdaten z.B ab 2010 sein und Label ab 1018\n",
    "subimg_startpos = (100,200)           # Zum Ausschneiden eines Bereichs aus dem gesammtbild // (0,0) ist oben Links!\n",
    "subimg_shape = (100,100)              # Größe des Ausschnittes von startpos beginnend\n",
    "output_shape = 50                     # Größe des outputs (resize)\n",
    "\n",
    "# einige Parameter haben default werte, angegeben werden muss auf jedenfall:\n",
    "# path, max_num_samples, n_data, n_label\n",
    "dc = sis.Data_converter(path, max_num_samples, n_data, n_label, start_img, subimg_startpos, subimg_shape, output_shape)\n",
    "\n",
    "print(\"-----------------------------\\n\\n\")\n",
    "print(\"Das Datenset wurde erfolgreich erstellt :)\")\n",
    "print(\"Insgesammt wurden\",dc.get_number_samples(),\"Sets gesammelt.\")\n",
    "print(\"Ein set ist ein Tupel aus (Daten, Label) sowohl daten als auch Label sind 3D-Arrays mit der shape:\")\n",
    "print(\"\\tDaten:\",dc.get_item_at(0)[0].shape,\"\\n\\tLabel:\", dc.get_item_at(0)[1].shape)\n",
    "print(\"Batches sind derzeit nicht implementiert, um alle Daten iterativ durchgehen zu können, \"+ \n",
    "      \"kann die methode dc.get_next() verwendet werden.\")\n",
    "for i in range(dc.get_number_samples()):\n",
    "    sample = dc.get_next()"
   ]
  },
  {
   "cell_type": "markdown",
   "metadata": {},
   "source": [
    "## Verwendung zum Training:\n",
    "zunächst sollten die Bilder einmalig eingelesen und Zugeschnitten werden. die OriginalBilder auf der /data/ Platte bleiben erhalten"
   ]
  },
  {
   "cell_type": "code",
   "execution_count": 4,
   "metadata": {
    "collapsed": true
   },
   "outputs": [],
   "source": [
    "dc = sis.Data_converter(path, 100, 5, 1, None, (200,200), (100,100), 65, silent=True)"
   ]
  },
  {
   "cell_type": "markdown",
   "metadata": {},
   "source": [
    "Die so eingelesenen Bilder können nun als Objekt mithilfe von pickle gespeichert werden. somit kann zu jedem Zeitpunkt einfach nur das Datenset geladen werden und die Berechnungen müssen nicht wiederholt werden."
   ]
  },
  {
   "cell_type": "code",
   "execution_count": 5,
   "metadata": {
    "collapsed": true
   },
   "outputs": [],
   "source": [
    "dc.save_object(\"FileName\", \"Zusätzliche Info, z.B. Januar 2017 zentriert auf Konstanz\")"
   ]
  },
  {
   "cell_type": "markdown",
   "metadata": {},
   "source": [
    "Nun ist vorerst alles vorbereitet für das Training des NeuronalenNetzes.\n",
    "Die Daten können über das Modul `sample_bundle` geladen werden und bieten die Schnittstellen `info()`, `get_next()`,  `get_item_at(i)` oder `get_number_samples()`. Ein verarbeiten von ganzen Batches ist möglich und wird im unteren Abschnitt vorgestellt."
   ]
  },
  {
   "cell_type": "code",
   "execution_count": 6,
   "metadata": {},
   "outputs": [
    {
     "name": "stdout",
     "output_type": "stream",
     "text": [
      "Set Bundle with 100 Samples Zusätzliche Info, z.B. Januar 2017 zentriert auf Konstanz\n"
     ]
    }
   ],
   "source": [
    "import sample_bundle\n",
    "sb = sample_bundle.load_Sample_Bundle(\"FileName\")\n",
    "print(sb.info())"
   ]
  },
  {
   "cell_type": "markdown",
   "metadata": {},
   "source": [
    "Die jedes Sample ist ein Tupel aus `(Daten, Label)`. Hierbei sind sowohl `Daten` als auch `Label` ein 3D np-Array. Die Größe der einzelnen Dimensionen konnte zum erstellzeitpunkt festgelegt werden, ein verändern ist in diesem Objekt nicht mehr vorgesehen."
   ]
  },
  {
   "cell_type": "code",
   "execution_count": 7,
   "metadata": {},
   "outputs": [
    {
     "name": "stdout",
     "output_type": "stream",
     "text": [
      "Sample ist vom Typ <class 'tuple'>\n",
      "Daten und Label sind 3D arrays (65, 65, 5) (65, 65, 1) die 3te Dimension gibt an,wie viele Bilder (zeitlich versetzt) hintereinander stecken.\n"
     ]
    }
   ],
   "source": [
    "sample = sb.get_next()\n",
    "print(\"Sample ist vom Typ\",type(sample))\n",
    "print(\"Daten und Label sind 3D arrays\", sample[0].shape, sample[1].shape, \"die 3te Dimension gibt an,\"+ \n",
    "      \"wie viele Bilder (zeitlich versetzt) hintereinander stecken.\")"
   ]
  },
  {
   "cell_type": "markdown",
   "metadata": {},
   "source": [
    "Zum erstellen von Batches wird die Methode `.get_batch(batchsize, random, axis)` zur verfügung gestellt.\n",
    "Der Parameter `batchsize` gibt an, wie viele 3D Matritzen zu einem Batch zusammengefügt werden sollen. *Achtung* der letzte Batch kann kleiner sein, wenn batchsize nicht ganzzahliges vielfaches von anzahl Samples ist.\n",
    "der Parameter `random` sorgt für eine zufällige anordnung der Samples in den Batches, kann aber auch deaktiviert werden.\n",
    "der Parameter `axis` gibt an, in welcher Dimension die Samples liegen, default ist die shape (x, y, nData, nSamples) wobei n_data, der anzahl Bilder pro Sample und nSamples eben der Batchsize antspricht."
   ]
  },
  {
   "cell_type": "code",
   "execution_count": 8,
   "metadata": {},
   "outputs": [
    {
     "name": "stdout",
     "output_type": "stream",
     "text": [
      "anz Batches: 10\n",
      "Normale Shape eines Batches\t\t\t (65, 65, 5, 11) (65, 65, 1, 11)\n",
      "letztes Batch kann von der shape abweichen\t (65, 65, 5, 1) (65, 65, 1, 1)\n"
     ]
    }
   ],
   "source": [
    "d,l = sb.get_batch(batchsize=11,random=True, axis=3)\n",
    "print(\"anz Batches:\",len(d))\n",
    "print(\"Normale Shape eines Batches\\t\\t\\t\",d[0].shape,l[0].shape)\n",
    "print(\"letztes Batch kann von der shape abweichen\\t\",d[-1].shape,l[-1].shape)"
   ]
  },
  {
   "cell_type": "markdown",
   "metadata": {},
   "source": [
    "Die erhaltenen Objekte `d, l` sind jeweils Listen mit den generierten 4D Matritzen (Batches). `d` enthält die Daten für das Netz, `l` die zugehörigen Label. In Obrigem Beispiel sind die Bilder 65x65 Pixel groß, die Daten bestehen aus 5 Bildern, während das Label nur ein Bild ist (Bild==Zeitschritt). Der letzte Parameter entspricht der Batchsize."
   ]
  },
  {
   "cell_type": "code",
   "execution_count": 6,
   "metadata": {},
   "outputs": [
    {
     "data": {
      "text/plain": [
       "(array([3595,    5,    0,    0,    0,    0,    0,    0,    0,    0,    0,\n",
       "           0,    0,    0,    0,    0,    0,    0,    0,    0,    0,    0,\n",
       "           0,    0,    0,    0,    0,    0,    0,    0,    0,    0,    0,\n",
       "           0,    0,    0,    0,    0,    0,    0,    0,    0,    0,    0,\n",
       "           0,    0,    0,    0,    0,    0,    0,    0,    0,    0,    0,\n",
       "           0,    0,    0,    0,    0,    0,    0,    0,    0,    0,    0,\n",
       "           0,    0,    0,    0,    0,    0,    0,    0,    0,    0,    0,\n",
       "           0,    0,    0,    0,    0,    0,    0,    0,    0,    0,    0,\n",
       "           0,    0,    0,    0,    0,    0,    0,    0,    0,    0,    0,\n",
       "           0,    0,    0,    0,    0,    0,    0,    0,    0,    0,    0,\n",
       "           0,    0,    0,    0,    0,    0,    0,    0,    0,    0,    0,\n",
       "           0,    0,    0,    0,    0,    0,    0,    0,    0,    0,    0,\n",
       "           0,    0,    0,    0,    0,    0,    0,    0,    0,    0,    0,\n",
       "           0,    0,    0,    0,    0,    0,    0,    0,    0,    0,    0,\n",
       "           0,    0,    0,    0,    0,    0,    0,    0,    0,    0,    0,\n",
       "           0,    0,    0,    0,    0,    0,    0,    0,    0,    0,    0,\n",
       "           0,    0,    0,    0,    0,    0,    0,    0,    0,    0,    0,\n",
       "           0,    0,    0,    0,    0,    0,    0,    0,    0,    0,    0,\n",
       "           0,    0,    0,    0,    0,    0,    0,    0,    0,    0,    0,\n",
       "           0,    0,    0,    0,    0,    0,    0,    0,    0,    0,    0,\n",
       "           0,    0,    0,    0,    0,    0,    0,    0,    0,    0,    0,\n",
       "           0,    0,    0,    0,    0,    0,    0,    0,    0,    0,    0,\n",
       "           0,    0,    0,    0,    0,    0,    0,    0,    0,    0,    0,\n",
       "           0,    0]), 0, 1)"
      ]
     },
     "execution_count": 6,
     "metadata": {},
     "output_type": "execute_result"
    }
   ],
   "source": [
    "import evaluate_images as evi2\n",
    "\n",
    "path = \"/data/Radarbilder_DWD/2018/RW201810.tar.gz/\"\n",
    "evi2.get_statistic(path,-1)"
   ]
  },
  {
   "cell_type": "code",
   "execution_count": null,
   "metadata": {
    "collapsed": true
   },
   "outputs": [],
   "source": []
  }
 ],
 "metadata": {
  "kernelspec": {
   "display_name": "Python 3",
   "language": "python",
   "name": "python3"
  },
  "language_info": {
   "codemirror_mode": {
    "name": "ipython",
    "version": 3
   },
   "file_extension": ".py",
   "mimetype": "text/x-python",
   "name": "python",
   "nbconvert_exporter": "python",
   "pygments_lexer": "ipython3",
   "version": "3.6.7"
  }
 },
 "nbformat": 4,
 "nbformat_minor": 2
}
