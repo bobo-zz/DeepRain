{
 "cells": [
  {
   "cell_type": "markdown",
   "metadata": {
    "collapsed": true
   },
   "source": [
    "## Ein beispiel, wie die Bilder eingelesen, verarbeitet und anschließend zum Trainieren verwendet werden können.\n",
    "Achtung, für dieses Script muss der Defaul Kernel verwendet werden!"
   ]
  },
  {
   "cell_type": "code",
   "execution_count": 1,
   "metadata": {},
   "outputs": [],
   "source": [
    "## Use default Python3 Kernel for this script\n",
    "import simple_image_script as sis\n",
    "import numpy as np\n",
    "import matplotlib.pyplot as plt"
   ]
  },
  {
   "cell_type": "markdown",
   "metadata": {},
   "source": [
    "Folgender Codeabschnitt wird nur zum betrachten einzelner Bilder auf der Festplatte verwendet (z.B. visualisierung von Anomalien) und ist zum Trainieren nicht vorgesehen."
   ]
  },
  {
   "cell_type": "code",
   "execution_count": 3,
   "metadata": {},
   "outputs": [
    {
     "name": "stdout",
     "output_type": "stream",
     "text": [
      "lese Bild: /home/drako/Desktop/unpacked/scaled_1707032140.png\n",
      "Eingelesenes Bild hat zu hohe Dimension (wird gekürzt auf 2D)\n",
      "Eingelesenes Bild hat zu hohe Dimension (wird gekürzt auf 2D)\n",
      "Eingelesenes Bild hat zu hohe Dimension (wird gekürzt auf 2D)\n",
      "Eingelesenes Bild hat zu hohe Dimension (wird gekürzt auf 2D)\n"
     ]
    },
    {
     "data": {
      "image/png": "[encoded data removed]",
      "text/plain": [
       "<Figure size 432x288 with 3 Axes>"
      ]
     },
     "metadata": {
      "needs_background": "light"
     },
     "output_type": "display_data"
    }
   ],
   "source": [
    "# Arbeiten direkt auf Bildern geht mit der Funktion:\n",
    "SUBIMG_TUPLE = ((820, 400), (200, 200))\n",
    "\n",
    "#path = \"/data/Radarbilder_DWD/TEST/raa01-rw_10000-0506301650-dwd---bin.gz.png\"        # RGBA Bild\n",
    "path = \"/home/drako/Desktop/unpacked/scaled_1707032140.png\"\n",
    "print(\"lese Bild:\", path)\n",
    "# Einfaches einlesen eines Bildes:\n",
    "OriginalBild = sis.open_one_img(path)\n",
    "# Auswählen eines Ausschnittes (zb. region 200x200 Pixel um Konstanz):\n",
    "Ausschnitt = sis.open_one_img(path, _subimg=SUBIMG_TUPLE)\n",
    "# Skalierter output -> output-Bildgröße = 60x60\n",
    "Skaliert = sis.open_one_img(path, _subimg=SUBIMG_TUPLE, _resize_shape=60)\n",
    "# alles in einem, mit show_result -> öffnet Plot, welcher die einzelnen Schritte zeigt\n",
    "Demo = sis.open_one_img(path, _subimg=SUBIMG_TUPLE, _resize_shape=(60, 60), raiseError=True, show_result=True, vmax=255)\n",
    "\n",
    "# _subimg:       Tupel mit start Koordinate und größe des Auschnitts\n",
    "# _resize_shape: Tupel oder int mit gewünschter outputgröße (_resize_shape=30 bedeutet 30x30 pixel)\n",
    "# raiseError:    True = schmeißt Fehler, wenn nicht alles nach Plan verläuft (z.B. subimg nicht möglich), False liefert dann noch größtmögliches Bild\n",
    "# show_result:   True = Zeigt die drei Bilder zu den eingegebenen Parametern (OriginalBild, Ausschnitt, Skaliert)\n",
    "# Falls die Meldung: Eingelesenes Bild hat zu hohe Dimension (wird gekürzt auf 2D) kommt, \n",
    "#                    handelt es sich um ein RGB oder RGBA Bild!\n",
    "\n",
    "#print(\"zum vergleich, die RGBA-Bilder sehen wie folgt aus (selbes Bild, selber Ausschnitt, selbe Skalierung):\")\n",
    "#path = \"/data/Radarbilder_DWD/TEST/raa01-rw_10000-0506301650-dwd---bin.gz.png\"        # RGBA Bild\n",
    "#Demo = sis.open_one_img(path, _subimg=((100, 100), (200, 200)), _resize_shape=(60, 60), raiseError=True, show_result=True)"
   ]
  },
  {
   "cell_type": "code",
   "execution_count": 4,
   "metadata": {},
   "outputs": [
    {
     "name": "stdout",
     "output_type": "stream",
     "text": [
      "(1100, 900) = 990000 pixel\n"
     ]
    },
    {
     "data": {
      "image/png": "[encoded data removed]",
      "text/plain": [
       "<Figure size 432x288 with 1 Axes>"
      ]
     },
     "metadata": {
      "needs_background": "light"
     },
     "output_type": "display_data"
    }
   ],
   "source": [
    "#a = OriginalBild[OriginalBild==174] = 0\n",
    "print(OriginalBild.shape, \"= {} pixel\".format(1100*900))\n",
    "plt.hist(OriginalBild.flatten(), bins=254, log=True)\n",
    "#plt.hist(Skaliert.flatten(), bins=254, log=True, color=\"r\")\n",
    "plt.show()"
   ]
  },
  {
   "cell_type": "code",
   "execution_count": 6,
   "metadata": {},
   "outputs": [
    {
     "data": {
      "image/png": "[encoded data removed]",
      "text/plain": [
       "<Figure size 432x288 with 1 Axes>"
      ]
     },
     "metadata": {
      "needs_background": "light"
     },
     "output_type": "display_data"
    }
   ],
   "source": [
    "plt.imshow(Skaliert, vmin=0, vmax=255, cmap=\"gray\")\n",
    "plt.show()"
   ]
  },
  {
   "cell_type": "markdown",
   "metadata": {},
   "source": [
    "Nachdem die Daten validiert sind, kann das Umwandeln der Bilder von der Platte zu np-arrays in form von Data-Label paaren gezeigt werden:"
   ]
  },
  {
   "cell_type": "code",
   "execution_count": 10,
   "metadata": {},
   "outputs": [
    {
     "name": "stdout",
     "output_type": "stream",
     "text": [
      "found 8928 in /home/drako/Desktop/unpacked/\n",
      "could create 8928 samples\n",
      "creating 100 images:\n",
      "100% |####################|-----------------------------\n",
      "\n",
      "\n",
      "Das Datenset wurde erfolgreich erstellt :)\n",
      "Insgesammt wurden 100 Sets gesammelt.\n",
      "Ein set ist ein Tupel aus (Daten, Label) sowohl daten als auch Label sind 3D-Arrays mit der shape:\n",
      "\tDaten: (200, 200, 5) \n",
      "\tLabel: (200, 200, 1)\n",
      "Batches sind derzeit nicht implementiert, um alle Daten iterativ durchgehen zu können, kann die methode dc.get_next() verwendet werden.\n"
     ]
    }
   ],
   "source": [
    "# Verwenden des Skripts zum trainieren eines Netzes:\n",
    "#path = Pfad zu den Bilddaten\n",
    "path = \"/home/drako/Desktop/unpacked/\"\n",
    "max_num_samples = 100                 # Maximale anzahl Samples (kann auch -1 sein, für alle einlesen)\n",
    "n_data = 5                            # Anzahl Zeitschritte (t) für die Eingangsdaten (x,y,t) bei n_data=3 werden also\n",
    "                                      # 3 aufeinander folgende Bilder als Eingabe verwendet.\n",
    "n_label = 1                           # Anzahl Zeitschritte (t) für das Label ( wie viele Zeitschritte vorhergesagt werden sollen)\n",
    "start_img = None                      # Noch nicht verwendet, später soll hiermit trainingsdaten z.B ab 2010 sein und Label ab 1018\n",
    "subimg_startpos = SUBIMG_TUPLE[0]     # Zum Ausschneiden eines Bereichs aus dem gesammtbild // (0,0) ist oben Links!\n",
    "subimg_shape = SUBIMG_TUPLE[1]        # Größe des Ausschnittes von startpos beginnend\n",
    "output_shape = 200                    # Größe des outputs (resize)\n",
    "\n",
    "# einige Parameter haben default Werte, angegeben werden muss auf jedenfall:\n",
    "# path, max_num_samples, n_data, n_label\n",
    "dc = sis.Data_converter(path, max_num_samples, n_data, n_label, start_img, subimg_startpos, subimg_shape,\n",
    "                        output_shape, pre=\"scaled_\",post=\".png\", silent=True)\n",
    "\n",
    "print(\"-----------------------------\\n\\n\")\n",
    "print(\"Das Datenset wurde erfolgreich erstellt :)\")\n",
    "print(\"Insgesammt wurden\",dc.get_number_samples(),\"Sets gesammelt.\")\n",
    "print(\"Ein set ist ein Tupel aus (Daten, Label) sowohl daten als auch Label sind 3D-Arrays mit der shape:\")\n",
    "print(\"\\tDaten:\",dc.get_item_at(0)[0].shape,\"\\n\\tLabel:\", dc.get_item_at(0)[1].shape)\n",
    "print(\"Batches sind derzeit nicht implementiert, um alle Daten iterativ durchgehen zu können, \"+ \n",
    "      \"kann die methode dc.get_next() verwendet werden.\")\n",
    "\n",
    "#for i in range(dc.get_number_samples()):\n",
    "#    sample = dc.get_next()"
   ]
  },
  {
   "cell_type": "markdown",
   "metadata": {},
   "source": [
    "## Verwendung zum Training:\n",
    "zunächst sollten die Bilder einmalig eingelesen und Zugeschnitten werden. die OriginalBilder auf der /data/ Platte bleiben erhalten"
   ]
  },
  {
   "cell_type": "code",
   "execution_count": 6,
   "metadata": {
    "collapsed": true
   },
   "outputs": [],
   "source": [
    "dc = sis.Data_converter(path, 100, 5, 1, None, SUBIMG_TUPLE[0], SUBIMG_TUPLE[1], 60, silent=True)"
   ]
  },
  {
   "cell_type": "markdown",
   "metadata": {},
   "source": [
    "Die so eingelesenen Bilder können nun als Objekt mithilfe von pickle gespeichert werden. somit kann zu jedem Zeitpunkt einfach nur das Datenset geladen werden und die Berechnungen müssen nicht wiederholt werden."
   ]
  },
  {
   "cell_type": "code",
   "execution_count": 8,
   "metadata": {},
   "outputs": [],
   "source": [
    "#dc.save_object(\"FileName\", \"Zusätzliche Info, z.B. Januar 2017 zentriert auf Konstanz\")\n",
    "dc.save_object(\"Juli2017_Linear\", \"only Images from Juli 2017, created with 'Anwendung simple_image_script.ipynb'\")"
   ]
  },
  {
   "cell_type": "markdown",
   "metadata": {},
   "source": [
    "Nun ist vorerst alles vorbereitet für das Training des NeuronalenNetzes.\n",
    "Die Daten können über das Modul `sample_bundle` geladen werden und bieten die Schnittstellen `info()`, `get_next()`,  `get_item_at(i)` oder `get_number_samples()`. Ein verarbeiten von ganzen Batches ist möglich und wird im unteren Abschnitt vorgestellt."
   ]
  },
  {
   "cell_type": "code",
   "execution_count": 11,
   "metadata": {},
   "outputs": [
    {
     "name": "stdout",
     "output_type": "stream",
     "text": [
      "Set Bundle with 1488 Samples\n",
      "Shapes are: input (200, 200, 5), output (200, 200, 1)\n",
      "Subimg selection is: ((820, 400), (200, 200)), resizeshape is: 200\n",
      "### Userinfostring:\n",
      "only Images from Juli 2017, created with 'Anwendung simple_image_script.ipynb'\n"
     ]
    }
   ],
   "source": [
    "import sample_bundle\n",
    "sb = sample_bundle.load_Sample_Bundle(\"Juli2017_Linear\")\n",
    "print(sb.info())"
   ]
  },
  {
   "cell_type": "markdown",
   "metadata": {},
   "source": [
    "Die jedes Sample ist ein Tupel aus `(Daten, Label)`. Hierbei sind sowohl `Daten` als auch `Label` ein 3D np-Array. Die Größe der einzelnen Dimensionen konnte zum erstellzeitpunkt festgelegt werden, ein verändern ist in diesem Objekt nicht mehr vorgesehen."
   ]
  },
  {
   "cell_type": "code",
   "execution_count": 12,
   "metadata": {},
   "outputs": [
    {
     "name": "stdout",
     "output_type": "stream",
     "text": [
      "Sample ist vom Typ <class 'tuple'>\n",
      "Daten und Label sind 3D arrays (200, 200, 5) (200, 200, 1) die 3te Dimension gibt an,wie viele Bilder (zeitlich versetzt) hintereinander stecken.\n"
     ]
    }
   ],
   "source": [
    "sample = sb.get_next()\n",
    "print(\"Sample ist vom Typ\",type(sample))\n",
    "print(\"Daten und Label sind 3D arrays\", sample[0].shape, sample[1].shape, \"die 3te Dimension gibt an,\"+ \n",
    "      \"wie viele Bilder (zeitlich versetzt) hintereinander stecken.\")"
   ]
  },
  {
   "cell_type": "markdown",
   "metadata": {},
   "source": [
    "Zum erstellen von Batches wird die Methode `.get_batch(batchsize, random, axis)` zur verfügung gestellt.\n",
    "Der Parameter `batchsize` gibt an, wie viele 3D Matritzen zu einem Batch zusammengefügt werden sollen. *Achtung* der letzte Batch kann kleiner sein, wenn batchsize nicht ganzzahliges vielfaches von anzahl Samples ist.\n",
    "der Parameter `random` sorgt für eine zufällige anordnung der Samples in den Batches, kann aber auch deaktiviert werden.\n",
    "der Parameter `axis` gibt an, in welcher Dimension die Samples liegen, default ist die shape (x, y, nData, nSamples) wobei n_data, der anzahl Bilder pro Sample und nSamples eben der Batchsize antspricht."
   ]
  },
  {
   "cell_type": "code",
   "execution_count": null,
   "metadata": {
    "collapsed": true
   },
   "outputs": [],
   "source": [
    "d,l = sb.get_batch(batchsize=11,random=True, axis=3)\n",
    "print(\"anz Batches:\",len(d))\n",
    "print(\"Normale Shape eines Batches\\t\\t\\t\",d[0].shape,l[0].shape)\n",
    "print(\"letztes Batch kann von der shape abweichen\\t\",d[-1].shape,l[-1].shape)"
   ]
  },
  {
   "cell_type": "markdown",
   "metadata": {},
   "source": [
    "Die erhaltenen Objekte `d, l` sind jeweils Listen mit den generierten 4D Matritzen (Batches). `d` enthält die Daten für das Netz, `l` die zugehörigen Label. In Obrigem Beispiel sind die Bilder 65x65 Pixel groß, die Daten bestehen aus 5 Bildern, während das Label nur ein Bild ist (Bild==Zeitschritt). Der letzte Parameter entspricht der Batchsize."
   ]
  },
  {
   "cell_type": "code",
   "execution_count": null,
   "metadata": {
    "collapsed": true
   },
   "outputs": [],
   "source": [
    "import evaluate_images as evi2\n",
    "\n",
    "path = \"/data/Radarbilder_DWD/2018/RW201810.tar.gz/\"\n",
    "evi2.get_statistic(path,-1)"
   ]
  },
  {
   "cell_type": "code",
   "execution_count": null,
   "metadata": {
    "collapsed": true
   },
   "outputs": [],
   "source": []
  }
 ],
 "metadata": {
  "kernelspec": {
   "display_name": "collectData",
   "language": "python",
   "name": "collectdata"
  },
  "language_info": {
   "codemirror_mode": {
    "name": "ipython",
    "version": 3
   },
   "file_extension": ".py",
   "mimetype": "text/x-python",
   "name": "python",
   "nbconvert_exporter": "python",
   "pygments_lexer": "ipython3",
   "version": "3.6.10"
  }
 },
 "nbformat": 4,
 "nbformat_minor": 2
}
