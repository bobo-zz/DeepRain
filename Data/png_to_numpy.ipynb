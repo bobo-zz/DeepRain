{
 "cells": [
  {
   "cell_type": "code",
   "execution_count": 4,
   "metadata": {
    "collapsed": true
   },
   "outputs": [],
   "source": [
    "import numpy as np\n",
    "import matplotlib.pyplot as plt\n",
    "from scipy import misc\n",
    "import glob"
   ]
  },
  {
   "cell_type": "code",
   "execution_count": 13,
   "metadata": {
    "collapsed": true
   },
   "outputs": [],
   "source": [
    "## Todo: Einlesen der Reihe nach ermöglichen (zeitliche Reihenfolge beachten)\n",
    "\n",
    "max_number = 5\n",
    "allImages = []\n",
    "for image_path in glob.glob(\"/data/Radarbilder_DWD/*.png\"):\n",
    "    image = plt.imread(image_path)\n",
    "    #print(image_path,\"\\n\", image.shape, image.dtype)\n",
    "    allImages.append(image)\n",
    "    max_number -=1\n",
    "    if max_number == 0:\n",
    "        break"
   ]
  },
  {
   "cell_type": "code",
   "execution_count": 27,
   "metadata": {},
   "outputs": [
    {
     "data": {
      "text/plain": [
       "<matplotlib.image.AxesImage at 0x7fdf2948b940>"
      ]
     },
     "execution_count": 27,
     "metadata": {},
     "output_type": "execute_result"
    },
    {
     "data": {
      "image/png": "[encoded data removed]",
      "text/plain": [
       "<Figure size 432x288 with 1 Axes>"
      ]
     },
     "metadata": {
      "needs_background": "light"
     },
     "output_type": "display_data"
    }
   ],
   "source": [
    "plt.imshow(allImages[0])"
   ]
  },
  {
   "cell_type": "code",
   "execution_count": 41,
   "metadata": {},
   "outputs": [
    {
     "name": "stdout",
     "output_type": "stream",
     "text": [
      "[[[0.26666668 0.00392157 0.32941177 1.        ]\n",
      "  [0.26666668 0.00392157 0.32941177 1.        ]\n",
      "  [0.26666668 0.00392157 0.32941177 1.        ]]\n",
      "\n",
      " [[0.26666668 0.00392157 0.32941177 1.        ]\n",
      "  [0.26666668 0.00392157 0.32941177 1.        ]\n",
      "  [0.26666668 0.00392157 0.32941177 1.        ]]\n",
      "\n",
      " [[0.26666668 0.00392157 0.32941177 1.        ]\n",
      "  [0.26666668 0.00392157 0.32941177 1.        ]\n",
      "  [0.26666668 0.00392157 0.32941177 1.        ]]]\n",
      "shape = (3, 3, 4)\n"
     ]
    }
   ],
   "source": [
    "img = allImages[0][100:103,100:103]\n",
    "#plt.imshow(img)\n",
    "print(img)\n",
    "print(\"shape =\",img.shape)\n",
    "#ToDo: wieso ist das ein  3D array? bzw. wieso ist die dritte Dimension 4? Falls Transparenzwert = unnötig\n",
    "# Optional könnten Bilder auch in 16Bit Graustufen gespeichert werden."
   ]
  },
  {
   "cell_type": "code",
   "execution_count": 81,
   "metadata": {},
   "outputs": [
    {
     "name": "stdout",
     "output_type": "stream",
     "text": [
      "(466, 526, 3) (466, 526, 2)\n"
     ]
    }
   ],
   "source": [
    "##\n",
    "# imgList  = Liste mit 3D Arrays (kann noch angepasst werden, wenn daten 2D vorliegen)\n",
    "# n_input  = anzahl Bilder die ins Netz gehen\n",
    "# n_output = anzahl Zeitschritte die vorausgesagt werden sollen\n",
    "def list_to_set(imgList, n_input, n_output):\n",
    "    x = None\n",
    "    y = None\n",
    "\n",
    "    assert(n_input+n_output <= len(imgList))\n",
    "\n",
    "    for i in range(n_input+n_output):\n",
    "        img = imgList[i][:,:,0]\n",
    "        if i < n_input:\n",
    "            if x is None:\n",
    "                x=np.atleast_3d(img)\n",
    "            else:\n",
    "                x = np.dstack((x,img))\n",
    "        else:        \n",
    "            if y is None:\n",
    "                y=np.atleast_3d(img)\n",
    "            else:\n",
    "                y = np.dstack((y,img))\n",
    "    return (x, y)\n",
    "  \n",
    "einTrainingssample = list_to_set(allImages, n_input=3, n_output=2)\n",
    "data = einTrainingssample[0]\n",
    "label = einTrainingssample[1]\n",
    "print(data.shape, label.shape)"
   ]
  },
  {
   "cell_type": "code",
   "execution_count": null,
   "metadata": {
    "collapsed": true
   },
   "outputs": [],
   "source": [
    "# ToDo: nächste Schritte sind:\n",
    "#   Richtige Daten einlesen\n",
    "#   Zeitliche Reihenfolge beachten\n",
    "#   Uninteressante Daten rausfiltern (kein Regen = langweilig)\n",
    "#   Dataset (oder wie auch imer das heißt bei Keras) implementieren"
   ]
  }
 ],
 "metadata": {
  "kernelspec": {
   "display_name": "Python [conda env:testingENV]",
   "language": "python",
   "name": "conda-env-testingENV-py"
  },
  "language_info": {
   "codemirror_mode": {
    "name": "ipython",
    "version": 3.0
   },
   "file_extension": ".py",
   "mimetype": "text/x-python",
   "name": "python",
   "nbconvert_exporter": "python",
   "pygments_lexer": "ipython3",
   "version": "3.6.7"
  }
 },
 "nbformat": 4,
 "nbformat_minor": 0
}