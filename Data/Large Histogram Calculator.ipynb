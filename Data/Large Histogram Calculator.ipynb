{
 "cells": [
  {
   "cell_type": "code",
   "execution_count": 1,
   "metadata": {
    "collapsed": true
   },
   "outputs": [],
   "source": [
    "# Hello to the Large Histogram Calculator\n",
    "# This noteboook is supposed to calculate the histogram of a whole year\n",
    "#\n",
    "# It needs to iterate over all 5-minutely files,\n",
    "# but must not keep all the values in RAM but instead computes a histogram\n",
    "# with predefined bins for each file.\n",
    "\n",
    "## Imports\n",
    "import os\n",
    "import glob\n",
    "import numpy as np\n",
    "import wradlib as wrl\n",
    "import matplotlib.pyplot as plt\n",
    "\n",
    "## Constants\n",
    "bin_file_name_prefix = \"raa01-yw2017.002_10000-\"\n",
    "img_file_name_prefix = \"scaled_\"\n",
    "\n",
    "data_min = 0\n",
    "data_max = 5    # Acutally must be determined from data!!!\n",
    "num_bins = 100\n",
    "\n",
    "# Subdirectories with years\n",
    "image_dir=\"/grossePlatte/Radardaten/PNG/\"\n",
    "data_dir=\"/grossePlatte/Radardaten/\"\n",
    "\n",
    "year = 2016"
   ]
  },
  {
   "cell_type": "code",
   "execution_count": 2,
   "metadata": {
    "collapsed": true
   },
   "outputs": [],
   "source": [
    "def read_data_from_radolan(radfile):\n",
    "    radfile = wrl.util.get_wradlib_data_file(radfile)\n",
    "    data, attrs = wrl.io.read_radolan_composite(radfile)\n",
    "    data = np.ma.masked_equal(data, -9999)\n",
    "    return data"
   ]
  },
  {
   "cell_type": "code",
   "execution_count": 3,
   "metadata": {
    "collapsed": true
   },
   "outputs": [],
   "source": [
    "def get_filename_prefix(year):\n",
    "    date_string_w_full_year = \"{:4d}\".format(year)\n",
    "    return date_string_w_full_year[2:]"
   ]
  },
  {
   "cell_type": "code",
   "execution_count": null,
   "metadata": {
    "collapsed": true
   },
   "outputs": [],
   "source": [
    "# Must determine (MIN and) MAX of values, to determine bins correctly\n",
    "\n",
    "year_dir = data_dir + str(year) + \"/\"\n",
    "## Make wradlib stop complaining\n",
    "os.environ[\"WRADLIB_DATA\"] = year_dir\n",
    "os.chdir(year_dir)\n",
    "\n",
    "filename_prefix = bin_file_name_prefix + get_filename_prefix(year)\n",
    "for file in glob.glob(filename_prefix + \"*\"):\n",
    "    try:\n",
    "        bin_data = read_data_from_radolan(file)\n",
    "        bin_data_max = bin_data.max()\n",
    "        if bin_data_max > data_max:\n",
    "            data_max = bin_data_max\n",
    "    except OSError as e:\n",
    "        print(\"Could not read file: \" + str(e))"
   ]
  },
  {
   "cell_type": "code",
   "execution_count": null,
   "metadata": {
    "collapsed": true
   },
   "outputs": [],
   "source": [
    "# Determine bins\n",
    "bins = np.linspace(data_min, data_max, num_bins)\n",
    "hist = np.zeroes(numbins - 1, dtype='int32')\n",
    "\n",
    "year_dir = data_dir + str(year) + \"/\"\n",
    "## Make wradlib stop complaining\n",
    "os.environ[\"WRADLIB_DATA\"] = year_dir\n",
    "os.chdir(year_dir)\n",
    "\n",
    "# Compose complete historgram by singele histograms\n",
    "filename_prefix = bin_file_name_prefix + get_filename_prefix(year)\n",
    "for file in glob.glob(filename_prefix + \"*\"):\n",
    "    try:\n",
    "        bin_data = read_data_from_radolan(file)\n",
    "        bin_data_hist, _ = np.histogram(bin_data, bins)\n",
    "        hist += bin_data_hist\n",
    "    except OSError as e:\n",
    "        print(\"Could not read file: \" + str(e))"
   ]
  },
  {
   "cell_type": "code",
   "execution_count": null,
   "metadata": {
    "collapsed": true
   },
   "outputs": [],
   "source": [
    "plt.hist(img_data, bins=bins)  # arguments are passed to np.histogram\n",
    "plt.title(\"Raw data (custom bins)\")\n",
    "plt.show()"
   ]
  }
 ],
 "metadata": {
  "kernelspec": {
   "display_name": "Python [conda env:testingENV]",
   "language": "python",
   "name": "conda-env-testingENV-py-2"
  },
  "language_info": {
   "codemirror_mode": {
    "name": "ipython",
    "version": 3
   },
   "file_extension": ".py",
   "mimetype": "text/x-python",
   "name": "python",
   "nbconvert_exporter": "python",
   "pygments_lexer": "ipython3",
   "version": "3.6.7"
  }
 },
 "nbformat": 4,
 "nbformat_minor": 2
}
